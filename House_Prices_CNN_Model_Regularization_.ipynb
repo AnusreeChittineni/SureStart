{
  "nbformat": 4,
  "nbformat_minor": 0,
  "metadata": {
    "colab": {
      "name": "House_Prices_CNN_Model_Regularization .ipynb",
      "provenance": [],
      "authorship_tag": "ABX9TyMlkQxXZZ0wG3ktN22gX1Ot",
      "include_colab_link": true
    },
    "kernelspec": {
      "name": "python3",
      "display_name": "Python 3"
    },
    "accelerator": "GPU"
  },
  "cells": [
    {
      "cell_type": "markdown",
      "metadata": {
        "id": "view-in-github",
        "colab_type": "text"
      },
      "source": [
        "<a href=\"https://colab.research.google.com/github/AnusreeChittineni/VAIL_2021/blob/main/House_Prices_CNN_Model_Regularization_.ipynb\" target=\"_parent\"><img src=\"https://colab.research.google.com/assets/colab-badge.svg\" alt=\"Open In Colab\"/></a>"
      ]
    },
    {
      "cell_type": "markdown",
      "metadata": {
        "id": "7xN55f8pYjQP"
      },
      "source": [
        "### Downloading & Preparing Data"
      ]
    },
    {
      "cell_type": "code",
      "metadata": {
        "id": "-u-q_rg8YE83"
      },
      "source": [
        "from google.colab import files\r\n",
        "import pandas as pd\r\n",
        "import seaborn as sns\r\n",
        "import numpy as np \r\n",
        "from sklearn.model_selection import train_test_split"
      ],
      "execution_count": 6,
      "outputs": []
    },
    {
      "cell_type": "code",
      "metadata": {
        "colab": {
          "resources": {
            "http://localhost:8080/nbextensions/google.colab/files.js": {
              "data": "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",
              "ok": true,
              "headers": [
                [
                  "content-type",
                  "application/javascript"
                ]
              ],
              "status": 200,
              "status_text": ""
            }
          },
          "base_uri": "https://localhost:8080/",
          "height": 73
        },
        "id": "0xV9nqb8YqTf",
        "outputId": "fd84ca77-e8d2-4221-fcb6-dda7ab37ce76"
      },
      "source": [
        "uploaded = files.upload()"
      ],
      "execution_count": 7,
      "outputs": [
        {
          "output_type": "display_data",
          "data": {
            "text/html": [
              "\n",
              "     <input type=\"file\" id=\"files-5d82cf33-27ea-451d-8915-f46e62e8666b\" name=\"files[]\" multiple disabled\n",
              "        style=\"border:none\" />\n",
              "     <output id=\"result-5d82cf33-27ea-451d-8915-f46e62e8666b\">\n",
              "      Upload widget is only available when the cell has been executed in the\n",
              "      current browser session. Please rerun this cell to enable.\n",
              "      </output>\n",
              "      <script src=\"/nbextensions/google.colab/files.js\"></script> "
            ],
            "text/plain": [
              "<IPython.core.display.HTML object>"
            ]
          },
          "metadata": {
            "tags": []
          }
        },
        {
          "output_type": "stream",
          "text": [
            "Saving housepricedata.csv to housepricedata.csv\n"
          ],
          "name": "stdout"
        }
      ]
    },
    {
      "cell_type": "code",
      "metadata": {
        "colab": {
          "base_uri": "https://localhost:8080/",
          "height": 498
        },
        "id": "iLmCRZu_YvfB",
        "outputId": "a72edf83-33ff-44af-e8ff-6c7bd80c3f19"
      },
      "source": [
        "house_price_data = pd.read_csv(\"/content/housepricedata.csv\")\r\n",
        "house_price_data.info()\r\n",
        "house_price_data.head()"
      ],
      "execution_count": 8,
      "outputs": [
        {
          "output_type": "stream",
          "text": [
            "<class 'pandas.core.frame.DataFrame'>\n",
            "RangeIndex: 1460 entries, 0 to 1459\n",
            "Data columns (total 11 columns):\n",
            " #   Column            Non-Null Count  Dtype\n",
            "---  ------            --------------  -----\n",
            " 0   LotArea           1460 non-null   int64\n",
            " 1   OverallQual       1460 non-null   int64\n",
            " 2   OverallCond       1460 non-null   int64\n",
            " 3   TotalBsmtSF       1460 non-null   int64\n",
            " 4   FullBath          1460 non-null   int64\n",
            " 5   HalfBath          1460 non-null   int64\n",
            " 6   BedroomAbvGr      1460 non-null   int64\n",
            " 7   TotRmsAbvGrd      1460 non-null   int64\n",
            " 8   Fireplaces        1460 non-null   int64\n",
            " 9   GarageArea        1460 non-null   int64\n",
            " 10  AboveMedianPrice  1460 non-null   int64\n",
            "dtypes: int64(11)\n",
            "memory usage: 125.6 KB\n"
          ],
          "name": "stdout"
        },
        {
          "output_type": "execute_result",
          "data": {
            "text/html": [
              "<div>\n",
              "<style scoped>\n",
              "    .dataframe tbody tr th:only-of-type {\n",
              "        vertical-align: middle;\n",
              "    }\n",
              "\n",
              "    .dataframe tbody tr th {\n",
              "        vertical-align: top;\n",
              "    }\n",
              "\n",
              "    .dataframe thead th {\n",
              "        text-align: right;\n",
              "    }\n",
              "</style>\n",
              "<table border=\"1\" class=\"dataframe\">\n",
              "  <thead>\n",
              "    <tr style=\"text-align: right;\">\n",
              "      <th></th>\n",
              "      <th>LotArea</th>\n",
              "      <th>OverallQual</th>\n",
              "      <th>OverallCond</th>\n",
              "      <th>TotalBsmtSF</th>\n",
              "      <th>FullBath</th>\n",
              "      <th>HalfBath</th>\n",
              "      <th>BedroomAbvGr</th>\n",
              "      <th>TotRmsAbvGrd</th>\n",
              "      <th>Fireplaces</th>\n",
              "      <th>GarageArea</th>\n",
              "      <th>AboveMedianPrice</th>\n",
              "    </tr>\n",
              "  </thead>\n",
              "  <tbody>\n",
              "    <tr>\n",
              "      <th>0</th>\n",
              "      <td>8450</td>\n",
              "      <td>7</td>\n",
              "      <td>5</td>\n",
              "      <td>856</td>\n",
              "      <td>2</td>\n",
              "      <td>1</td>\n",
              "      <td>3</td>\n",
              "      <td>8</td>\n",
              "      <td>0</td>\n",
              "      <td>548</td>\n",
              "      <td>1</td>\n",
              "    </tr>\n",
              "    <tr>\n",
              "      <th>1</th>\n",
              "      <td>9600</td>\n",
              "      <td>6</td>\n",
              "      <td>8</td>\n",
              "      <td>1262</td>\n",
              "      <td>2</td>\n",
              "      <td>0</td>\n",
              "      <td>3</td>\n",
              "      <td>6</td>\n",
              "      <td>1</td>\n",
              "      <td>460</td>\n",
              "      <td>1</td>\n",
              "    </tr>\n",
              "    <tr>\n",
              "      <th>2</th>\n",
              "      <td>11250</td>\n",
              "      <td>7</td>\n",
              "      <td>5</td>\n",
              "      <td>920</td>\n",
              "      <td>2</td>\n",
              "      <td>1</td>\n",
              "      <td>3</td>\n",
              "      <td>6</td>\n",
              "      <td>1</td>\n",
              "      <td>608</td>\n",
              "      <td>1</td>\n",
              "    </tr>\n",
              "    <tr>\n",
              "      <th>3</th>\n",
              "      <td>9550</td>\n",
              "      <td>7</td>\n",
              "      <td>5</td>\n",
              "      <td>756</td>\n",
              "      <td>1</td>\n",
              "      <td>0</td>\n",
              "      <td>3</td>\n",
              "      <td>7</td>\n",
              "      <td>1</td>\n",
              "      <td>642</td>\n",
              "      <td>0</td>\n",
              "    </tr>\n",
              "    <tr>\n",
              "      <th>4</th>\n",
              "      <td>14260</td>\n",
              "      <td>8</td>\n",
              "      <td>5</td>\n",
              "      <td>1145</td>\n",
              "      <td>2</td>\n",
              "      <td>1</td>\n",
              "      <td>4</td>\n",
              "      <td>9</td>\n",
              "      <td>1</td>\n",
              "      <td>836</td>\n",
              "      <td>1</td>\n",
              "    </tr>\n",
              "  </tbody>\n",
              "</table>\n",
              "</div>"
            ],
            "text/plain": [
              "   LotArea  OverallQual  OverallCond  ...  Fireplaces  GarageArea  AboveMedianPrice\n",
              "0     8450            7            5  ...           0         548                 1\n",
              "1     9600            6            8  ...           1         460                 1\n",
              "2    11250            7            5  ...           1         608                 1\n",
              "3     9550            7            5  ...           1         642                 0\n",
              "4    14260            8            5  ...           1         836                 1\n",
              "\n",
              "[5 rows x 11 columns]"
            ]
          },
          "metadata": {
            "tags": []
          },
          "execution_count": 8
        }
      ]
    },
    {
      "cell_type": "code",
      "metadata": {
        "colab": {
          "base_uri": "https://localhost:8080/"
        },
        "id": "SuhGQEVbZBg5",
        "outputId": "6ae3aa20-a32f-4074-8a07-b4025ccd551f"
      },
      "source": [
        "# Converts dataframe into a numpy array\r\n",
        "hpdata_values = house_price_data.values\r\n",
        "hpdata_values"
      ],
      "execution_count": 9,
      "outputs": [
        {
          "output_type": "execute_result",
          "data": {
            "text/plain": [
              "array([[ 8450,     7,     5, ...,     0,   548,     1],\n",
              "       [ 9600,     6,     8, ...,     1,   460,     1],\n",
              "       [11250,     7,     5, ...,     1,   608,     1],\n",
              "       ...,\n",
              "       [ 9042,     7,     9, ...,     2,   252,     1],\n",
              "       [ 9717,     5,     6, ...,     0,   240,     0],\n",
              "       [ 9937,     5,     6, ...,     0,   276,     0]])"
            ]
          },
          "metadata": {
            "tags": []
          },
          "execution_count": 9
        }
      ]
    },
    {
      "cell_type": "code",
      "metadata": {
        "id": "U9_0O6FaZxOw"
      },
      "source": [
        "# Initializes input values by separating out the output values\r\n",
        "x_input = hpdata_values[:, 0:10]"
      ],
      "execution_count": 10,
      "outputs": []
    },
    {
      "cell_type": "code",
      "metadata": {
        "id": "94l7WhhhaAUP"
      },
      "source": [
        "# Initializes output values by separating out the input values\r\n",
        "y_output = hpdata_values[:, 10]"
      ],
      "execution_count": 11,
      "outputs": []
    },
    {
      "cell_type": "markdown",
      "metadata": {
        "id": "XbaUzzGwaJ9l"
      },
      "source": [
        "### Data Preprocessing"
      ]
    },
    {
      "cell_type": "code",
      "metadata": {
        "id": "UQ6NC-gLaMsx"
      },
      "source": [
        "from sklearn import preprocessing\r\n",
        "from sklearn.model_selection import train_test_split"
      ],
      "execution_count": 12,
      "outputs": []
    },
    {
      "cell_type": "code",
      "metadata": {
        "id": "1IN4eAHoaNlC"
      },
      "source": [
        "# scales the dataset so that all the input features lie between 0 and 1 inclusive\r\n",
        "min_max_scaler = preprocessing.MinMaxScaler()\r\n",
        "x_scale = min_max_scaler.fit_transform(x_input)"
      ],
      "execution_count": 13,
      "outputs": []
    },
    {
      "cell_type": "code",
      "metadata": {
        "colab": {
          "base_uri": "https://localhost:8080/"
        },
        "id": "o0LQ3TRdaWKK",
        "outputId": "5a2b7f0e-5ff0-4d3c-f762-879c3612d617"
      },
      "source": [
        "x_scale"
      ],
      "execution_count": 14,
      "outputs": [
        {
          "output_type": "execute_result",
          "data": {
            "text/plain": [
              "array([[0.0334198 , 0.66666667, 0.5       , ..., 0.5       , 0.        ,\n",
              "        0.3864598 ],\n",
              "       [0.03879502, 0.55555556, 0.875     , ..., 0.33333333, 0.33333333,\n",
              "        0.32440056],\n",
              "       [0.04650728, 0.66666667, 0.5       , ..., 0.33333333, 0.33333333,\n",
              "        0.42877292],\n",
              "       ...,\n",
              "       [0.03618687, 0.66666667, 1.        , ..., 0.58333333, 0.66666667,\n",
              "        0.17771509],\n",
              "       [0.03934189, 0.44444444, 0.625     , ..., 0.25      , 0.        ,\n",
              "        0.16925247],\n",
              "       [0.04037019, 0.44444444, 0.625     , ..., 0.33333333, 0.        ,\n",
              "        0.19464034]])"
            ]
          },
          "metadata": {
            "tags": []
          },
          "execution_count": 14
        }
      ]
    },
    {
      "cell_type": "code",
      "metadata": {
        "id": "11vBnXTCaoLj"
      },
      "source": [
        "# Splits data into train, val, and test sets\r\n",
        "x_train, x_val_and_test, y_train, y_val_and_test = train_test_split(x_scale, y_output, test_size=0.3)\r\n",
        "x_val, x_test, y_val, y_test = train_test_split(x_val_and_test, y_val_and_test, test_size=0.5)"
      ],
      "execution_count": 15,
      "outputs": []
    },
    {
      "cell_type": "code",
      "metadata": {
        "colab": {
          "base_uri": "https://localhost:8080/"
        },
        "id": "s7aufI1EbYkH",
        "outputId": "ef401a9d-4421-4646-93dc-eec5b7c3dc2c"
      },
      "source": [
        "print(x_train.shape, x_val.shape, x_test.shape, y_train.shape, y_val.shape, y_test.shape)"
      ],
      "execution_count": 16,
      "outputs": [
        {
          "output_type": "stream",
          "text": [
            "(1022, 10) (219, 10) (219, 10) (1022,) (219,) (219,)\n"
          ],
          "name": "stdout"
        }
      ]
    },
    {
      "cell_type": "markdown",
      "metadata": {
        "id": "TaR7qBPNbn9M"
      },
      "source": [
        "### Training Overfit"
      ]
    },
    {
      "cell_type": "code",
      "metadata": {
        "id": "rxgNz_h7bpdG"
      },
      "source": [
        "from tensorflow.keras.models import Sequential\r\n",
        "from tensorflow.keras.layers import Dense"
      ],
      "execution_count": 17,
      "outputs": []
    },
    {
      "cell_type": "code",
      "metadata": {
        "id": "3UyODPnHbwmo"
      },
      "source": [
        "# initialize model\r\n",
        "model_1 = Sequential([\r\n",
        "    Dense(1000, activation='relu', input_shape=(10,)),\r\n",
        "    Dense(1000, activation='relu'),\r\n",
        "    Dense(1000, activation='relu'),\r\n",
        "    Dense(1000, activation='relu'),\r\n",
        "    Dense(1, activation='sigmoid'),\r\n",
        "])"
      ],
      "execution_count": 18,
      "outputs": []
    },
    {
      "cell_type": "code",
      "metadata": {
        "id": "1bVtF2dob6-3"
      },
      "source": [
        "# compile model using binary crossentropy loss function\r\n",
        "model_1.compile(optimizer='adam',\r\n",
        "              loss='binary_crossentropy',\r\n",
        "              metrics=['accuracy'])"
      ],
      "execution_count": 19,
      "outputs": []
    },
    {
      "cell_type": "code",
      "metadata": {
        "colab": {
          "base_uri": "https://localhost:8080/"
        },
        "id": "AQ85XAd4cIVB",
        "outputId": "392363a8-e91f-475c-87a2-032d20d9a1db"
      },
      "source": [
        "# fit model\r\n",
        "hist_1 = model_1.fit(x_train, y_train,\r\n",
        "          batch_size=32, epochs=100,\r\n",
        "          validation_data=(x_val, y_val))"
      ],
      "execution_count": 20,
      "outputs": [
        {
          "output_type": "stream",
          "text": [
            "Epoch 1/100\n",
            "32/32 [==============================] - 2s 10ms/step - loss: 0.5370 - accuracy: 0.7049 - val_loss: 0.3599 - val_accuracy: 0.8813\n",
            "Epoch 2/100\n",
            "32/32 [==============================] - 0s 4ms/step - loss: 0.3865 - accuracy: 0.8268 - val_loss: 0.3473 - val_accuracy: 0.8493\n",
            "Epoch 3/100\n",
            "32/32 [==============================] - 0s 4ms/step - loss: 0.3201 - accuracy: 0.8611 - val_loss: 0.2563 - val_accuracy: 0.8904\n",
            "Epoch 4/100\n",
            "32/32 [==============================] - 0s 4ms/step - loss: 0.3059 - accuracy: 0.8550 - val_loss: 0.2339 - val_accuracy: 0.8950\n",
            "Epoch 5/100\n",
            "32/32 [==============================] - 0s 4ms/step - loss: 0.2555 - accuracy: 0.8994 - val_loss: 0.3236 - val_accuracy: 0.8584\n",
            "Epoch 6/100\n",
            "32/32 [==============================] - 0s 4ms/step - loss: 0.3148 - accuracy: 0.8908 - val_loss: 0.2837 - val_accuracy: 0.8584\n",
            "Epoch 7/100\n",
            "32/32 [==============================] - 0s 4ms/step - loss: 0.2898 - accuracy: 0.8767 - val_loss: 0.2397 - val_accuracy: 0.8904\n",
            "Epoch 8/100\n",
            "32/32 [==============================] - 0s 4ms/step - loss: 0.2514 - accuracy: 0.9005 - val_loss: 0.3027 - val_accuracy: 0.8630\n",
            "Epoch 9/100\n",
            "32/32 [==============================] - 0s 4ms/step - loss: 0.2850 - accuracy: 0.8704 - val_loss: 0.3213 - val_accuracy: 0.8539\n",
            "Epoch 10/100\n",
            "32/32 [==============================] - 0s 4ms/step - loss: 0.2991 - accuracy: 0.8736 - val_loss: 0.2502 - val_accuracy: 0.8858\n",
            "Epoch 11/100\n",
            "32/32 [==============================] - 0s 4ms/step - loss: 0.2668 - accuracy: 0.8644 - val_loss: 0.2224 - val_accuracy: 0.8950\n",
            "Epoch 12/100\n",
            "32/32 [==============================] - 0s 4ms/step - loss: 0.2487 - accuracy: 0.9067 - val_loss: 0.2165 - val_accuracy: 0.9224\n",
            "Epoch 13/100\n",
            "32/32 [==============================] - 0s 4ms/step - loss: 0.2196 - accuracy: 0.9085 - val_loss: 0.2359 - val_accuracy: 0.9041\n",
            "Epoch 14/100\n",
            "32/32 [==============================] - 0s 4ms/step - loss: 0.2193 - accuracy: 0.9084 - val_loss: 0.2034 - val_accuracy: 0.9269\n",
            "Epoch 15/100\n",
            "32/32 [==============================] - 0s 4ms/step - loss: 0.2240 - accuracy: 0.9000 - val_loss: 0.2166 - val_accuracy: 0.8995\n",
            "Epoch 16/100\n",
            "32/32 [==============================] - 0s 4ms/step - loss: 0.2376 - accuracy: 0.8941 - val_loss: 0.2124 - val_accuracy: 0.9269\n",
            "Epoch 17/100\n",
            "32/32 [==============================] - 0s 4ms/step - loss: 0.2277 - accuracy: 0.9084 - val_loss: 0.2575 - val_accuracy: 0.8858\n",
            "Epoch 18/100\n",
            "32/32 [==============================] - 0s 4ms/step - loss: 0.1890 - accuracy: 0.9154 - val_loss: 0.2145 - val_accuracy: 0.9269\n",
            "Epoch 19/100\n",
            "32/32 [==============================] - 0s 4ms/step - loss: 0.1780 - accuracy: 0.9306 - val_loss: 0.2303 - val_accuracy: 0.9087\n",
            "Epoch 20/100\n",
            "32/32 [==============================] - 0s 4ms/step - loss: 0.2025 - accuracy: 0.9191 - val_loss: 0.2692 - val_accuracy: 0.8950\n",
            "Epoch 21/100\n",
            "32/32 [==============================] - 0s 4ms/step - loss: 0.2315 - accuracy: 0.8951 - val_loss: 0.2145 - val_accuracy: 0.9178\n",
            "Epoch 22/100\n",
            "32/32 [==============================] - 0s 4ms/step - loss: 0.2040 - accuracy: 0.9082 - val_loss: 0.2542 - val_accuracy: 0.9087\n",
            "Epoch 23/100\n",
            "32/32 [==============================] - 0s 4ms/step - loss: 0.1928 - accuracy: 0.9212 - val_loss: 0.2386 - val_accuracy: 0.9041\n",
            "Epoch 24/100\n",
            "32/32 [==============================] - 0s 4ms/step - loss: 0.2009 - accuracy: 0.9159 - val_loss: 0.2329 - val_accuracy: 0.9178\n",
            "Epoch 25/100\n",
            "32/32 [==============================] - 0s 4ms/step - loss: 0.1982 - accuracy: 0.9266 - val_loss: 0.2230 - val_accuracy: 0.9269\n",
            "Epoch 26/100\n",
            "32/32 [==============================] - 0s 4ms/step - loss: 0.1779 - accuracy: 0.9165 - val_loss: 0.2260 - val_accuracy: 0.9269\n",
            "Epoch 27/100\n",
            "32/32 [==============================] - 0s 4ms/step - loss: 0.1770 - accuracy: 0.9141 - val_loss: 0.2321 - val_accuracy: 0.9224\n",
            "Epoch 28/100\n",
            "32/32 [==============================] - 0s 4ms/step - loss: 0.1880 - accuracy: 0.9110 - val_loss: 0.2358 - val_accuracy: 0.9087\n",
            "Epoch 29/100\n",
            "32/32 [==============================] - 0s 4ms/step - loss: 0.1796 - accuracy: 0.9310 - val_loss: 0.2210 - val_accuracy: 0.9132\n",
            "Epoch 30/100\n",
            "32/32 [==============================] - 0s 4ms/step - loss: 0.2044 - accuracy: 0.9079 - val_loss: 0.2833 - val_accuracy: 0.9269\n",
            "Epoch 31/100\n",
            "32/32 [==============================] - 0s 4ms/step - loss: 0.1773 - accuracy: 0.9225 - val_loss: 0.2335 - val_accuracy: 0.9224\n",
            "Epoch 32/100\n",
            "32/32 [==============================] - 0s 4ms/step - loss: 0.1824 - accuracy: 0.9201 - val_loss: 0.2923 - val_accuracy: 0.8995\n",
            "Epoch 33/100\n",
            "32/32 [==============================] - 0s 4ms/step - loss: 0.2202 - accuracy: 0.9173 - val_loss: 0.2827 - val_accuracy: 0.8950\n",
            "Epoch 34/100\n",
            "32/32 [==============================] - 0s 4ms/step - loss: 0.1815 - accuracy: 0.9206 - val_loss: 0.3231 - val_accuracy: 0.8995\n",
            "Epoch 35/100\n",
            "32/32 [==============================] - 0s 4ms/step - loss: 0.1906 - accuracy: 0.9125 - val_loss: 0.2376 - val_accuracy: 0.9132\n",
            "Epoch 36/100\n",
            "32/32 [==============================] - 0s 4ms/step - loss: 0.2025 - accuracy: 0.9191 - val_loss: 0.2466 - val_accuracy: 0.9087\n",
            "Epoch 37/100\n",
            "32/32 [==============================] - 0s 5ms/step - loss: 0.1690 - accuracy: 0.9259 - val_loss: 0.2471 - val_accuracy: 0.9269\n",
            "Epoch 38/100\n",
            "32/32 [==============================] - 0s 4ms/step - loss: 0.2048 - accuracy: 0.9171 - val_loss: 0.2769 - val_accuracy: 0.8904\n",
            "Epoch 39/100\n",
            "32/32 [==============================] - 0s 4ms/step - loss: 0.1707 - accuracy: 0.9208 - val_loss: 0.2665 - val_accuracy: 0.8995\n",
            "Epoch 40/100\n",
            "32/32 [==============================] - 0s 4ms/step - loss: 0.1586 - accuracy: 0.9280 - val_loss: 0.3413 - val_accuracy: 0.8995\n",
            "Epoch 41/100\n",
            "32/32 [==============================] - 0s 4ms/step - loss: 0.1737 - accuracy: 0.9253 - val_loss: 0.2680 - val_accuracy: 0.9132\n",
            "Epoch 42/100\n",
            "32/32 [==============================] - 0s 4ms/step - loss: 0.1794 - accuracy: 0.9249 - val_loss: 0.2583 - val_accuracy: 0.9087\n",
            "Epoch 43/100\n",
            "32/32 [==============================] - 0s 4ms/step - loss: 0.1841 - accuracy: 0.9236 - val_loss: 0.2605 - val_accuracy: 0.9041\n",
            "Epoch 44/100\n",
            "32/32 [==============================] - 0s 4ms/step - loss: 0.1819 - accuracy: 0.9299 - val_loss: 0.2426 - val_accuracy: 0.9087\n",
            "Epoch 45/100\n",
            "32/32 [==============================] - 0s 4ms/step - loss: 0.1760 - accuracy: 0.9189 - val_loss: 0.2847 - val_accuracy: 0.9087\n",
            "Epoch 46/100\n",
            "32/32 [==============================] - 0s 4ms/step - loss: 0.1795 - accuracy: 0.9177 - val_loss: 0.2671 - val_accuracy: 0.9087\n",
            "Epoch 47/100\n",
            "32/32 [==============================] - 0s 4ms/step - loss: 0.1596 - accuracy: 0.9362 - val_loss: 0.2890 - val_accuracy: 0.8995\n",
            "Epoch 48/100\n",
            "32/32 [==============================] - 0s 4ms/step - loss: 0.1727 - accuracy: 0.9282 - val_loss: 0.2995 - val_accuracy: 0.9087\n",
            "Epoch 49/100\n",
            "32/32 [==============================] - 0s 4ms/step - loss: 0.1796 - accuracy: 0.9290 - val_loss: 0.3323 - val_accuracy: 0.9087\n",
            "Epoch 50/100\n",
            "32/32 [==============================] - 0s 4ms/step - loss: 0.1794 - accuracy: 0.9218 - val_loss: 0.2760 - val_accuracy: 0.9087\n",
            "Epoch 51/100\n",
            "32/32 [==============================] - 0s 4ms/step - loss: 0.1438 - accuracy: 0.9412 - val_loss: 0.3008 - val_accuracy: 0.9087\n",
            "Epoch 52/100\n",
            "32/32 [==============================] - 0s 4ms/step - loss: 0.1435 - accuracy: 0.9422 - val_loss: 0.3048 - val_accuracy: 0.8995\n",
            "Epoch 53/100\n",
            "32/32 [==============================] - 0s 4ms/step - loss: 0.1279 - accuracy: 0.9441 - val_loss: 0.2823 - val_accuracy: 0.9087\n",
            "Epoch 54/100\n",
            "32/32 [==============================] - 0s 4ms/step - loss: 0.1632 - accuracy: 0.9266 - val_loss: 0.3047 - val_accuracy: 0.9132\n",
            "Epoch 55/100\n",
            "32/32 [==============================] - 0s 4ms/step - loss: 0.1593 - accuracy: 0.9288 - val_loss: 0.3204 - val_accuracy: 0.8950\n",
            "Epoch 56/100\n",
            "32/32 [==============================] - 0s 4ms/step - loss: 0.1521 - accuracy: 0.9249 - val_loss: 0.2934 - val_accuracy: 0.9041\n",
            "Epoch 57/100\n",
            "32/32 [==============================] - 0s 4ms/step - loss: 0.1462 - accuracy: 0.9474 - val_loss: 0.3479 - val_accuracy: 0.8995\n",
            "Epoch 58/100\n",
            "32/32 [==============================] - 0s 4ms/step - loss: 0.1569 - accuracy: 0.9336 - val_loss: 0.3433 - val_accuracy: 0.9087\n",
            "Epoch 59/100\n",
            "32/32 [==============================] - 0s 4ms/step - loss: 0.1526 - accuracy: 0.9247 - val_loss: 0.3403 - val_accuracy: 0.9132\n",
            "Epoch 60/100\n",
            "32/32 [==============================] - 0s 4ms/step - loss: 0.1785 - accuracy: 0.9226 - val_loss: 0.3016 - val_accuracy: 0.9132\n",
            "Epoch 61/100\n",
            "32/32 [==============================] - 0s 5ms/step - loss: 0.1753 - accuracy: 0.9359 - val_loss: 0.2632 - val_accuracy: 0.9041\n",
            "Epoch 62/100\n",
            "32/32 [==============================] - 0s 4ms/step - loss: 0.1530 - accuracy: 0.9378 - val_loss: 0.2516 - val_accuracy: 0.9178\n",
            "Epoch 63/100\n",
            "32/32 [==============================] - 0s 4ms/step - loss: 0.1596 - accuracy: 0.9297 - val_loss: 0.2761 - val_accuracy: 0.8858\n",
            "Epoch 64/100\n",
            "32/32 [==============================] - 0s 4ms/step - loss: 0.1488 - accuracy: 0.9315 - val_loss: 0.2641 - val_accuracy: 0.8995\n",
            "Epoch 65/100\n",
            "32/32 [==============================] - 0s 4ms/step - loss: 0.1245 - accuracy: 0.9493 - val_loss: 0.3203 - val_accuracy: 0.8995\n",
            "Epoch 66/100\n",
            "32/32 [==============================] - 0s 4ms/step - loss: 0.1308 - accuracy: 0.9422 - val_loss: 0.3371 - val_accuracy: 0.8858\n",
            "Epoch 67/100\n",
            "32/32 [==============================] - 0s 4ms/step - loss: 0.1676 - accuracy: 0.9353 - val_loss: 0.3559 - val_accuracy: 0.9087\n",
            "Epoch 68/100\n",
            "32/32 [==============================] - 0s 4ms/step - loss: 0.1403 - accuracy: 0.9408 - val_loss: 0.6284 - val_accuracy: 0.8676\n",
            "Epoch 69/100\n",
            "32/32 [==============================] - 0s 4ms/step - loss: 0.2017 - accuracy: 0.9168 - val_loss: 0.2538 - val_accuracy: 0.9087\n",
            "Epoch 70/100\n",
            "32/32 [==============================] - 0s 4ms/step - loss: 0.1625 - accuracy: 0.9227 - val_loss: 0.2828 - val_accuracy: 0.8858\n",
            "Epoch 71/100\n",
            "32/32 [==============================] - 0s 4ms/step - loss: 0.1285 - accuracy: 0.9524 - val_loss: 0.3227 - val_accuracy: 0.8858\n",
            "Epoch 72/100\n",
            "32/32 [==============================] - 0s 4ms/step - loss: 0.1204 - accuracy: 0.9549 - val_loss: 0.3166 - val_accuracy: 0.8904\n",
            "Epoch 73/100\n",
            "32/32 [==============================] - 0s 4ms/step - loss: 0.1267 - accuracy: 0.9562 - val_loss: 0.3868 - val_accuracy: 0.8767\n",
            "Epoch 74/100\n",
            "32/32 [==============================] - 0s 4ms/step - loss: 0.1433 - accuracy: 0.9477 - val_loss: 0.4214 - val_accuracy: 0.8539\n",
            "Epoch 75/100\n",
            "32/32 [==============================] - 0s 4ms/step - loss: 0.1644 - accuracy: 0.9305 - val_loss: 0.4334 - val_accuracy: 0.8950\n",
            "Epoch 76/100\n",
            "32/32 [==============================] - 0s 4ms/step - loss: 0.1184 - accuracy: 0.9487 - val_loss: 0.3420 - val_accuracy: 0.8813\n",
            "Epoch 77/100\n",
            "32/32 [==============================] - 0s 4ms/step - loss: 0.1270 - accuracy: 0.9578 - val_loss: 0.3378 - val_accuracy: 0.8858\n",
            "Epoch 78/100\n",
            "32/32 [==============================] - 0s 4ms/step - loss: 0.1466 - accuracy: 0.9351 - val_loss: 0.4174 - val_accuracy: 0.8813\n",
            "Epoch 79/100\n",
            "32/32 [==============================] - 0s 4ms/step - loss: 0.1188 - accuracy: 0.9529 - val_loss: 0.3344 - val_accuracy: 0.8995\n",
            "Epoch 80/100\n",
            "32/32 [==============================] - 0s 4ms/step - loss: 0.1251 - accuracy: 0.9527 - val_loss: 0.2961 - val_accuracy: 0.8813\n",
            "Epoch 81/100\n",
            "32/32 [==============================] - 0s 4ms/step - loss: 0.1457 - accuracy: 0.9397 - val_loss: 0.3976 - val_accuracy: 0.8767\n",
            "Epoch 82/100\n",
            "32/32 [==============================] - 0s 4ms/step - loss: 0.1350 - accuracy: 0.9400 - val_loss: 0.3665 - val_accuracy: 0.9178\n",
            "Epoch 83/100\n",
            "32/32 [==============================] - 0s 4ms/step - loss: 0.1285 - accuracy: 0.9542 - val_loss: 0.3784 - val_accuracy: 0.9041\n",
            "Epoch 84/100\n",
            "32/32 [==============================] - 0s 4ms/step - loss: 0.1473 - accuracy: 0.9420 - val_loss: 0.4523 - val_accuracy: 0.8904\n",
            "Epoch 85/100\n",
            "32/32 [==============================] - 0s 4ms/step - loss: 0.1121 - accuracy: 0.9427 - val_loss: 0.3481 - val_accuracy: 0.8630\n",
            "Epoch 86/100\n",
            "32/32 [==============================] - 0s 4ms/step - loss: 0.1136 - accuracy: 0.9588 - val_loss: 0.5006 - val_accuracy: 0.8813\n",
            "Epoch 87/100\n",
            "32/32 [==============================] - 0s 4ms/step - loss: 0.1741 - accuracy: 0.9313 - val_loss: 0.4214 - val_accuracy: 0.8904\n",
            "Epoch 88/100\n",
            "32/32 [==============================] - 0s 4ms/step - loss: 0.1222 - accuracy: 0.9504 - val_loss: 0.3714 - val_accuracy: 0.8950\n",
            "Epoch 89/100\n",
            "32/32 [==============================] - 0s 4ms/step - loss: 0.1196 - accuracy: 0.9551 - val_loss: 0.4675 - val_accuracy: 0.8813\n",
            "Epoch 90/100\n",
            "32/32 [==============================] - 0s 4ms/step - loss: 0.1160 - accuracy: 0.9480 - val_loss: 0.5526 - val_accuracy: 0.9041\n",
            "Epoch 91/100\n",
            "32/32 [==============================] - 0s 4ms/step - loss: 0.0990 - accuracy: 0.9570 - val_loss: 0.5196 - val_accuracy: 0.8904\n",
            "Epoch 92/100\n",
            "32/32 [==============================] - 0s 4ms/step - loss: 0.1170 - accuracy: 0.9565 - val_loss: 0.5406 - val_accuracy: 0.8950\n",
            "Epoch 93/100\n",
            "32/32 [==============================] - 0s 4ms/step - loss: 0.1121 - accuracy: 0.9530 - val_loss: 0.5542 - val_accuracy: 0.8767\n",
            "Epoch 94/100\n",
            "32/32 [==============================] - 0s 4ms/step - loss: 0.1200 - accuracy: 0.9503 - val_loss: 0.4887 - val_accuracy: 0.8767\n",
            "Epoch 95/100\n",
            "32/32 [==============================] - 0s 4ms/step - loss: 0.0841 - accuracy: 0.9648 - val_loss: 0.5930 - val_accuracy: 0.8858\n",
            "Epoch 96/100\n",
            "32/32 [==============================] - 0s 4ms/step - loss: 0.0736 - accuracy: 0.9643 - val_loss: 0.5916 - val_accuracy: 0.8721\n",
            "Epoch 97/100\n",
            "32/32 [==============================] - 0s 4ms/step - loss: 0.0816 - accuracy: 0.9608 - val_loss: 0.6097 - val_accuracy: 0.8858\n",
            "Epoch 98/100\n",
            "32/32 [==============================] - 0s 4ms/step - loss: 0.0931 - accuracy: 0.9607 - val_loss: 0.5887 - val_accuracy: 0.8858\n",
            "Epoch 99/100\n",
            "32/32 [==============================] - 0s 4ms/step - loss: 0.2206 - accuracy: 0.9153 - val_loss: 0.2338 - val_accuracy: 0.8950\n",
            "Epoch 100/100\n",
            "32/32 [==============================] - 0s 4ms/step - loss: 0.1593 - accuracy: 0.9266 - val_loss: 0.3332 - val_accuracy: 0.8813\n"
          ],
          "name": "stdout"
        }
      ]
    },
    {
      "cell_type": "markdown",
      "metadata": {
        "id": "zHqHEkn_cVy1"
      },
      "source": [
        "### Testing Overfit"
      ]
    },
    {
      "cell_type": "code",
      "metadata": {
        "id": "34Uue3vDcrdg"
      },
      "source": [
        "import matplotlib.pyplot as plt"
      ],
      "execution_count": 25,
      "outputs": []
    },
    {
      "cell_type": "code",
      "metadata": {
        "colab": {
          "base_uri": "https://localhost:8080/"
        },
        "id": "nXmsS9_vcYD4",
        "outputId": "453d2211-3ac1-412c-df15-b07595e6c50b"
      },
      "source": [
        "# Evaluates model performance (loss, accuracy)\r\n",
        "model_1.evaluate(x_test, y_test)"
      ],
      "execution_count": 26,
      "outputs": [
        {
          "output_type": "stream",
          "text": [
            "7/7 [==============================] - 0s 2ms/step - loss: 0.2932 - accuracy: 0.8858\n"
          ],
          "name": "stdout"
        },
        {
          "output_type": "execute_result",
          "data": {
            "text/plain": [
              "[0.2932283878326416, 0.8858447670936584]"
            ]
          },
          "metadata": {
            "tags": []
          },
          "execution_count": 26
        }
      ]
    },
    {
      "cell_type": "code",
      "metadata": {
        "colab": {
          "base_uri": "https://localhost:8080/",
          "height": 295
        },
        "id": "XbBs_7fNcuzC",
        "outputId": "092f43d0-e0f8-4864-e463-360e16ae18b4"
      },
      "source": [
        "# visualizes model loss\r\n",
        "plt.plot(hist_1.history['loss'])\r\n",
        "plt.plot(hist_1.history['val_loss'])\r\n",
        "plt.title('Model loss')\r\n",
        "plt.ylabel('Loss')\r\n",
        "plt.xlabel('Epoch')\r\n",
        "plt.legend(['Train', 'Val'], loc='upper right')\r\n",
        "plt.show()"
      ],
      "execution_count": 27,
      "outputs": [
        {
          "output_type": "display_data",
          "data": {
            "image/png": "[encoded data removed]",
            "text/plain": [
              "<Figure size 432x288 with 1 Axes>"
            ]
          },
          "metadata": {
            "tags": [],
            "needs_background": "light"
          }
        }
      ]
    },
    {
      "cell_type": "code",
      "metadata": {
        "colab": {
          "base_uri": "https://localhost:8080/",
          "height": 295
        },
        "id": "oIbY01ADcyL1",
        "outputId": "0841c23e-833c-4326-f1ac-fe3f3a9dbfa5"
      },
      "source": [
        "# visualizes model accuracy\r\n",
        "plt.plot(hist_1.history['accuracy'])\r\n",
        "plt.plot(hist_1.history['val_accuracy'])\r\n",
        "plt.title('Model accuracy')\r\n",
        "plt.ylabel('Accuracy')\r\n",
        "plt.xlabel('Epoch')\r\n",
        "plt.legend(['Train', 'Val'], loc='lower right')\r\n",
        "plt.show()"
      ],
      "execution_count": 28,
      "outputs": [
        {
          "output_type": "display_data",
          "data": {
            "image/png": "[encoded data removed]",
            "text/plain": [
              "<Figure size 432x288 with 1 Axes>"
            ]
          },
          "metadata": {
            "tags": [],
            "needs_background": "light"
          }
        }
      ]
    },
    {
      "cell_type": "markdown",
      "metadata": {
        "id": "uUdygCaqe2ua"
      },
      "source": [
        "### Training Regularized"
      ]
    },
    {
      "cell_type": "code",
      "metadata": {
        "id": "vMs6Jn3ve6lX"
      },
      "source": [
        "from keras.layers import Dropout\r\n",
        "from keras import regularizers"
      ],
      "execution_count": 29,
      "outputs": []
    },
    {
      "cell_type": "code",
      "metadata": {
        "id": "txSxJ0lFe9Bm"
      },
      "source": [
        "model_2 = Sequential([\r\n",
        "    Dense(1000, activation='relu', kernel_regularizer=regularizers.l2(0.01), input_shape=(10,)),\r\n",
        "    Dropout(0.3),\r\n",
        "    Dense(1000, activation='relu', kernel_regularizer=regularizers.l2(0.01)),\r\n",
        "    Dropout(0.3),\r\n",
        "    Dense(1000, activation='relu', kernel_regularizer=regularizers.l2(0.01)),\r\n",
        "    Dropout(0.3),\r\n",
        "    Dense(1000, activation='relu', kernel_regularizer=regularizers.l2(0.01)),\r\n",
        "    Dropout(0.3),\r\n",
        "    Dense(1, activation='sigmoid', kernel_regularizer=regularizers.l2(0.01)),\r\n",
        "])"
      ],
      "execution_count": 30,
      "outputs": []
    },
    {
      "cell_type": "code",
      "metadata": {
        "id": "QVeu8qXtfAdn"
      },
      "source": [
        "model_2.compile(optimizer='adam',\r\n",
        "              loss='binary_crossentropy',\r\n",
        "              metrics=['accuracy'])"
      ],
      "execution_count": 31,
      "outputs": []
    },
    {
      "cell_type": "code",
      "metadata": {
        "colab": {
          "base_uri": "https://localhost:8080/"
        },
        "id": "VTKqE4HCfBj7",
        "outputId": "cfb96733-e742-4634-b1aa-f86a426a1bbd"
      },
      "source": [
        "hist_2 = model_2.fit(x_train, y_train,\r\n",
        "          batch_size=32, epochs=100,\r\n",
        "          validation_data=(x_val, y_val))"
      ],
      "execution_count": 32,
      "outputs": [
        {
          "output_type": "stream",
          "text": [
            "Epoch 1/100\n",
            "32/32 [==============================] - 1s 10ms/step - loss: 21.1192 - accuracy: 0.5596 - val_loss: 3.9223 - val_accuracy: 0.8447\n",
            "Epoch 2/100\n",
            "32/32 [==============================] - 0s 5ms/step - loss: 2.5121 - accuracy: 0.8076 - val_loss: 0.5909 - val_accuracy: 0.8995\n",
            "Epoch 3/100\n",
            "32/32 [==============================] - 0s 5ms/step - loss: 0.6125 - accuracy: 0.8536 - val_loss: 0.4802 - val_accuracy: 0.8904\n",
            "Epoch 4/100\n",
            "32/32 [==============================] - 0s 5ms/step - loss: 0.4979 - accuracy: 0.8659 - val_loss: 0.5090 - val_accuracy: 0.8676\n",
            "Epoch 5/100\n",
            "32/32 [==============================] - 0s 5ms/step - loss: 0.4935 - accuracy: 0.8710 - val_loss: 0.4994 - val_accuracy: 0.8676\n",
            "Epoch 6/100\n",
            "32/32 [==============================] - 0s 5ms/step - loss: 0.4934 - accuracy: 0.8778 - val_loss: 0.4208 - val_accuracy: 0.9041\n",
            "Epoch 7/100\n",
            "32/32 [==============================] - 0s 5ms/step - loss: 0.4955 - accuracy: 0.8705 - val_loss: 0.4371 - val_accuracy: 0.8950\n",
            "Epoch 8/100\n",
            "32/32 [==============================] - 0s 5ms/step - loss: 0.4550 - accuracy: 0.8962 - val_loss: 0.4624 - val_accuracy: 0.8721\n",
            "Epoch 9/100\n",
            "32/32 [==============================] - 0s 5ms/step - loss: 0.4750 - accuracy: 0.8826 - val_loss: 0.4843 - val_accuracy: 0.8676\n",
            "Epoch 10/100\n",
            "32/32 [==============================] - 0s 5ms/step - loss: 0.4515 - accuracy: 0.8873 - val_loss: 0.4188 - val_accuracy: 0.9041\n",
            "Epoch 11/100\n",
            "32/32 [==============================] - 0s 5ms/step - loss: 0.4800 - accuracy: 0.8491 - val_loss: 0.4188 - val_accuracy: 0.8904\n",
            "Epoch 12/100\n",
            "32/32 [==============================] - 0s 5ms/step - loss: 0.4814 - accuracy: 0.8731 - val_loss: 0.4067 - val_accuracy: 0.9041\n",
            "Epoch 13/100\n",
            "32/32 [==============================] - 0s 4ms/step - loss: 0.4319 - accuracy: 0.8866 - val_loss: 0.4234 - val_accuracy: 0.8995\n",
            "Epoch 14/100\n",
            "32/32 [==============================] - 0s 5ms/step - loss: 0.4377 - accuracy: 0.8824 - val_loss: 0.4365 - val_accuracy: 0.8767\n",
            "Epoch 15/100\n",
            "32/32 [==============================] - 0s 5ms/step - loss: 0.4519 - accuracy: 0.8897 - val_loss: 0.4533 - val_accuracy: 0.8676\n",
            "Epoch 16/100\n",
            "32/32 [==============================] - 0s 5ms/step - loss: 0.5001 - accuracy: 0.8487 - val_loss: 0.4174 - val_accuracy: 0.8904\n",
            "Epoch 17/100\n",
            "32/32 [==============================] - 0s 5ms/step - loss: 0.4522 - accuracy: 0.8778 - val_loss: 0.4088 - val_accuracy: 0.9178\n",
            "Epoch 18/100\n",
            "32/32 [==============================] - 0s 4ms/step - loss: 0.4523 - accuracy: 0.8770 - val_loss: 0.4215 - val_accuracy: 0.8995\n",
            "Epoch 19/100\n",
            "32/32 [==============================] - 0s 5ms/step - loss: 0.4510 - accuracy: 0.8777 - val_loss: 0.4801 - val_accuracy: 0.8721\n",
            "Epoch 20/100\n",
            "32/32 [==============================] - 0s 5ms/step - loss: 0.4712 - accuracy: 0.8752 - val_loss: 0.4077 - val_accuracy: 0.9178\n",
            "Epoch 21/100\n",
            "32/32 [==============================] - 0s 5ms/step - loss: 0.4415 - accuracy: 0.8918 - val_loss: 0.4043 - val_accuracy: 0.8995\n",
            "Epoch 22/100\n",
            "32/32 [==============================] - 0s 5ms/step - loss: 0.4557 - accuracy: 0.8613 - val_loss: 0.4223 - val_accuracy: 0.8904\n",
            "Epoch 23/100\n",
            "32/32 [==============================] - 0s 5ms/step - loss: 0.4607 - accuracy: 0.8674 - val_loss: 0.4089 - val_accuracy: 0.9178\n",
            "Epoch 24/100\n",
            "32/32 [==============================] - 0s 5ms/step - loss: 0.4552 - accuracy: 0.8806 - val_loss: 0.4145 - val_accuracy: 0.8995\n",
            "Epoch 25/100\n",
            "32/32 [==============================] - 0s 5ms/step - loss: 0.4471 - accuracy: 0.8822 - val_loss: 0.4236 - val_accuracy: 0.8767\n",
            "Epoch 26/100\n",
            "32/32 [==============================] - 0s 5ms/step - loss: 0.4155 - accuracy: 0.9019 - val_loss: 0.4165 - val_accuracy: 0.8858\n",
            "Epoch 27/100\n",
            "32/32 [==============================] - 0s 5ms/step - loss: 0.4272 - accuracy: 0.8940 - val_loss: 0.4011 - val_accuracy: 0.9087\n",
            "Epoch 28/100\n",
            "32/32 [==============================] - 0s 5ms/step - loss: 0.4549 - accuracy: 0.8806 - val_loss: 0.3953 - val_accuracy: 0.9041\n",
            "Epoch 29/100\n",
            "32/32 [==============================] - 0s 4ms/step - loss: 0.4483 - accuracy: 0.8760 - val_loss: 0.3977 - val_accuracy: 0.9041\n",
            "Epoch 30/100\n",
            "32/32 [==============================] - 0s 5ms/step - loss: 0.4552 - accuracy: 0.8737 - val_loss: 0.4312 - val_accuracy: 0.8721\n",
            "Epoch 31/100\n",
            "32/32 [==============================] - 0s 5ms/step - loss: 0.4336 - accuracy: 0.8884 - val_loss: 0.3969 - val_accuracy: 0.9041\n",
            "Epoch 32/100\n",
            "32/32 [==============================] - 0s 4ms/step - loss: 0.4292 - accuracy: 0.8777 - val_loss: 0.3983 - val_accuracy: 0.9132\n",
            "Epoch 33/100\n",
            "32/32 [==============================] - 0s 5ms/step - loss: 0.4484 - accuracy: 0.8761 - val_loss: 0.4024 - val_accuracy: 0.9087\n",
            "Epoch 34/100\n",
            "32/32 [==============================] - 0s 4ms/step - loss: 0.4668 - accuracy: 0.8697 - val_loss: 0.3918 - val_accuracy: 0.9041\n",
            "Epoch 35/100\n",
            "32/32 [==============================] - 0s 5ms/step - loss: 0.4290 - accuracy: 0.8790 - val_loss: 0.4684 - val_accuracy: 0.8584\n",
            "Epoch 36/100\n",
            "32/32 [==============================] - 0s 5ms/step - loss: 0.4859 - accuracy: 0.8426 - val_loss: 0.4007 - val_accuracy: 0.9041\n",
            "Epoch 37/100\n",
            "32/32 [==============================] - 0s 4ms/step - loss: 0.4451 - accuracy: 0.8819 - val_loss: 0.4043 - val_accuracy: 0.9087\n",
            "Epoch 38/100\n",
            "32/32 [==============================] - 0s 4ms/step - loss: 0.4453 - accuracy: 0.8835 - val_loss: 0.3945 - val_accuracy: 0.9041\n",
            "Epoch 39/100\n",
            "32/32 [==============================] - 0s 4ms/step - loss: 0.4322 - accuracy: 0.8895 - val_loss: 0.3954 - val_accuracy: 0.9041\n",
            "Epoch 40/100\n",
            "32/32 [==============================] - 0s 4ms/step - loss: 0.4401 - accuracy: 0.8821 - val_loss: 0.4125 - val_accuracy: 0.8858\n",
            "Epoch 41/100\n",
            "32/32 [==============================] - 0s 5ms/step - loss: 0.4477 - accuracy: 0.8818 - val_loss: 0.3972 - val_accuracy: 0.9087\n",
            "Epoch 42/100\n",
            "32/32 [==============================] - 0s 4ms/step - loss: 0.4462 - accuracy: 0.8850 - val_loss: 0.4011 - val_accuracy: 0.9041\n",
            "Epoch 43/100\n",
            "32/32 [==============================] - 0s 4ms/step - loss: 0.4377 - accuracy: 0.8842 - val_loss: 0.4126 - val_accuracy: 0.9087\n",
            "Epoch 44/100\n",
            "32/32 [==============================] - 0s 5ms/step - loss: 0.4283 - accuracy: 0.9054 - val_loss: 0.4024 - val_accuracy: 0.8904\n",
            "Epoch 45/100\n",
            "32/32 [==============================] - 0s 5ms/step - loss: 0.4550 - accuracy: 0.8736 - val_loss: 0.4036 - val_accuracy: 0.9178\n",
            "Epoch 46/100\n",
            "32/32 [==============================] - 0s 5ms/step - loss: 0.4375 - accuracy: 0.8763 - val_loss: 0.4570 - val_accuracy: 0.8767\n",
            "Epoch 47/100\n",
            "32/32 [==============================] - 0s 4ms/step - loss: 0.4395 - accuracy: 0.8706 - val_loss: 0.4196 - val_accuracy: 0.8813\n",
            "Epoch 48/100\n",
            "32/32 [==============================] - 0s 5ms/step - loss: 0.4462 - accuracy: 0.8856 - val_loss: 0.4159 - val_accuracy: 0.8858\n",
            "Epoch 49/100\n",
            "32/32 [==============================] - 0s 4ms/step - loss: 0.4458 - accuracy: 0.8726 - val_loss: 0.4407 - val_accuracy: 0.8813\n",
            "Epoch 50/100\n",
            "32/32 [==============================] - 0s 5ms/step - loss: 0.4689 - accuracy: 0.8606 - val_loss: 0.3939 - val_accuracy: 0.9041\n",
            "Epoch 51/100\n",
            "32/32 [==============================] - 0s 5ms/step - loss: 0.4433 - accuracy: 0.8791 - val_loss: 0.4584 - val_accuracy: 0.8630\n",
            "Epoch 52/100\n",
            "32/32 [==============================] - 0s 5ms/step - loss: 0.4400 - accuracy: 0.8752 - val_loss: 0.3932 - val_accuracy: 0.9041\n",
            "Epoch 53/100\n",
            "32/32 [==============================] - 0s 5ms/step - loss: 0.4561 - accuracy: 0.8506 - val_loss: 0.3950 - val_accuracy: 0.9041\n",
            "Epoch 54/100\n",
            "32/32 [==============================] - 0s 5ms/step - loss: 0.4358 - accuracy: 0.8836 - val_loss: 0.4464 - val_accuracy: 0.8676\n",
            "Epoch 55/100\n",
            "32/32 [==============================] - 0s 5ms/step - loss: 0.4767 - accuracy: 0.8574 - val_loss: 0.4599 - val_accuracy: 0.8676\n",
            "Epoch 56/100\n",
            "32/32 [==============================] - 0s 5ms/step - loss: 0.4501 - accuracy: 0.8775 - val_loss: 0.4017 - val_accuracy: 0.9087\n",
            "Epoch 57/100\n",
            "32/32 [==============================] - 0s 5ms/step - loss: 0.4514 - accuracy: 0.8753 - val_loss: 0.3946 - val_accuracy: 0.9132\n",
            "Epoch 58/100\n",
            "32/32 [==============================] - 0s 5ms/step - loss: 0.4620 - accuracy: 0.8737 - val_loss: 0.3923 - val_accuracy: 0.9041\n",
            "Epoch 59/100\n",
            "32/32 [==============================] - 0s 5ms/step - loss: 0.4294 - accuracy: 0.8780 - val_loss: 0.4005 - val_accuracy: 0.9087\n",
            "Epoch 60/100\n",
            "32/32 [==============================] - 0s 4ms/step - loss: 0.4468 - accuracy: 0.8729 - val_loss: 0.4084 - val_accuracy: 0.8904\n",
            "Epoch 61/100\n",
            "32/32 [==============================] - 0s 5ms/step - loss: 0.4404 - accuracy: 0.8847 - val_loss: 0.3955 - val_accuracy: 0.9132\n",
            "Epoch 62/100\n",
            "32/32 [==============================] - 0s 5ms/step - loss: 0.4329 - accuracy: 0.8910 - val_loss: 0.3958 - val_accuracy: 0.9087\n",
            "Epoch 63/100\n",
            "32/32 [==============================] - 0s 4ms/step - loss: 0.4811 - accuracy: 0.8576 - val_loss: 0.4191 - val_accuracy: 0.8813\n",
            "Epoch 64/100\n",
            "32/32 [==============================] - 0s 5ms/step - loss: 0.4835 - accuracy: 0.8713 - val_loss: 0.4237 - val_accuracy: 0.8858\n",
            "Epoch 65/100\n",
            "32/32 [==============================] - 0s 5ms/step - loss: 0.4497 - accuracy: 0.8893 - val_loss: 0.4029 - val_accuracy: 0.9178\n",
            "Epoch 66/100\n",
            "32/32 [==============================] - 0s 5ms/step - loss: 0.4280 - accuracy: 0.9064 - val_loss: 0.3977 - val_accuracy: 0.9087\n",
            "Epoch 67/100\n",
            "32/32 [==============================] - 0s 5ms/step - loss: 0.4420 - accuracy: 0.8811 - val_loss: 0.4593 - val_accuracy: 0.8721\n",
            "Epoch 68/100\n",
            "32/32 [==============================] - 0s 5ms/step - loss: 0.4238 - accuracy: 0.8920 - val_loss: 0.3972 - val_accuracy: 0.9132\n",
            "Epoch 69/100\n",
            "32/32 [==============================] - 0s 5ms/step - loss: 0.4297 - accuracy: 0.8914 - val_loss: 0.4240 - val_accuracy: 0.8767\n",
            "Epoch 70/100\n",
            "32/32 [==============================] - 0s 5ms/step - loss: 0.4156 - accuracy: 0.8976 - val_loss: 0.3994 - val_accuracy: 0.9132\n",
            "Epoch 71/100\n",
            "32/32 [==============================] - 0s 5ms/step - loss: 0.4449 - accuracy: 0.8846 - val_loss: 0.4135 - val_accuracy: 0.8858\n",
            "Epoch 72/100\n",
            "32/32 [==============================] - 0s 5ms/step - loss: 0.4155 - accuracy: 0.8927 - val_loss: 0.3924 - val_accuracy: 0.9041\n",
            "Epoch 73/100\n",
            "32/32 [==============================] - 0s 5ms/step - loss: 0.4320 - accuracy: 0.8710 - val_loss: 0.4125 - val_accuracy: 0.8858\n",
            "Epoch 74/100\n",
            "32/32 [==============================] - 0s 5ms/step - loss: 0.4259 - accuracy: 0.8958 - val_loss: 0.4005 - val_accuracy: 0.9087\n",
            "Epoch 75/100\n",
            "32/32 [==============================] - 0s 5ms/step - loss: 0.4075 - accuracy: 0.9074 - val_loss: 0.4048 - val_accuracy: 0.9132\n",
            "Epoch 76/100\n",
            "32/32 [==============================] - 0s 5ms/step - loss: 0.4347 - accuracy: 0.8848 - val_loss: 0.4209 - val_accuracy: 0.8813\n",
            "Epoch 77/100\n",
            "32/32 [==============================] - 0s 5ms/step - loss: 0.4484 - accuracy: 0.8623 - val_loss: 0.4550 - val_accuracy: 0.8813\n",
            "Epoch 78/100\n",
            "32/32 [==============================] - 0s 5ms/step - loss: 0.4386 - accuracy: 0.8813 - val_loss: 0.4075 - val_accuracy: 0.8858\n",
            "Epoch 79/100\n",
            "32/32 [==============================] - 0s 5ms/step - loss: 0.4382 - accuracy: 0.8823 - val_loss: 0.3935 - val_accuracy: 0.9041\n",
            "Epoch 80/100\n",
            "32/32 [==============================] - 0s 5ms/step - loss: 0.4450 - accuracy: 0.8844 - val_loss: 0.4372 - val_accuracy: 0.8767\n",
            "Epoch 81/100\n",
            "32/32 [==============================] - 0s 5ms/step - loss: 0.4455 - accuracy: 0.8784 - val_loss: 0.4052 - val_accuracy: 0.8995\n",
            "Epoch 82/100\n",
            "32/32 [==============================] - 0s 5ms/step - loss: 0.4297 - accuracy: 0.8805 - val_loss: 0.3919 - val_accuracy: 0.9087\n",
            "Epoch 83/100\n",
            "32/32 [==============================] - 0s 5ms/step - loss: 0.4335 - accuracy: 0.8921 - val_loss: 0.4241 - val_accuracy: 0.8767\n",
            "Epoch 84/100\n",
            "32/32 [==============================] - 0s 5ms/step - loss: 0.4345 - accuracy: 0.8826 - val_loss: 0.3930 - val_accuracy: 0.9132\n",
            "Epoch 85/100\n",
            "32/32 [==============================] - 0s 5ms/step - loss: 0.4426 - accuracy: 0.8718 - val_loss: 0.4026 - val_accuracy: 0.9041\n",
            "Epoch 86/100\n",
            "32/32 [==============================] - 0s 5ms/step - loss: 0.4108 - accuracy: 0.8819 - val_loss: 0.4089 - val_accuracy: 0.8858\n",
            "Epoch 87/100\n",
            "32/32 [==============================] - 0s 5ms/step - loss: 0.4545 - accuracy: 0.8689 - val_loss: 0.4115 - val_accuracy: 0.8813\n",
            "Epoch 88/100\n",
            "32/32 [==============================] - 0s 5ms/step - loss: 0.4332 - accuracy: 0.8739 - val_loss: 0.4280 - val_accuracy: 0.8767\n",
            "Epoch 89/100\n",
            "32/32 [==============================] - 0s 5ms/step - loss: 0.4353 - accuracy: 0.8679 - val_loss: 0.4508 - val_accuracy: 0.8721\n",
            "Epoch 90/100\n",
            "32/32 [==============================] - 0s 5ms/step - loss: 0.4279 - accuracy: 0.8926 - val_loss: 0.3999 - val_accuracy: 0.9132\n",
            "Epoch 91/100\n",
            "32/32 [==============================] - 0s 5ms/step - loss: 0.4389 - accuracy: 0.8815 - val_loss: 0.3928 - val_accuracy: 0.9041\n",
            "Epoch 92/100\n",
            "32/32 [==============================] - 0s 5ms/step - loss: 0.4416 - accuracy: 0.8729 - val_loss: 0.4070 - val_accuracy: 0.8995\n",
            "Epoch 93/100\n",
            "32/32 [==============================] - 0s 5ms/step - loss: 0.4448 - accuracy: 0.8769 - val_loss: 0.4004 - val_accuracy: 0.9087\n",
            "Epoch 94/100\n",
            "32/32 [==============================] - 0s 5ms/step - loss: 0.4276 - accuracy: 0.8840 - val_loss: 0.3937 - val_accuracy: 0.9132\n",
            "Epoch 95/100\n",
            "32/32 [==============================] - 0s 5ms/step - loss: 0.4360 - accuracy: 0.8816 - val_loss: 0.4176 - val_accuracy: 0.8813\n",
            "Epoch 96/100\n",
            "32/32 [==============================] - 0s 5ms/step - loss: 0.4352 - accuracy: 0.8809 - val_loss: 0.3987 - val_accuracy: 0.9132\n",
            "Epoch 97/100\n",
            "32/32 [==============================] - 0s 5ms/step - loss: 0.4336 - accuracy: 0.8787 - val_loss: 0.3908 - val_accuracy: 0.9087\n",
            "Epoch 98/100\n",
            "32/32 [==============================] - 0s 5ms/step - loss: 0.4176 - accuracy: 0.8877 - val_loss: 0.4072 - val_accuracy: 0.8950\n",
            "Epoch 99/100\n",
            "32/32 [==============================] - 0s 5ms/step - loss: 0.4658 - accuracy: 0.8700 - val_loss: 0.4025 - val_accuracy: 0.9041\n",
            "Epoch 100/100\n",
            "32/32 [==============================] - 0s 5ms/step - loss: 0.4241 - accuracy: 0.8885 - val_loss: 0.3923 - val_accuracy: 0.9087\n"
          ],
          "name": "stdout"
        }
      ]
    },
    {
      "cell_type": "markdown",
      "metadata": {
        "id": "bAIGebV_fGky"
      },
      "source": [
        "### Testing Regularized"
      ]
    },
    {
      "cell_type": "code",
      "metadata": {
        "colab": {
          "base_uri": "https://localhost:8080/"
        },
        "id": "bZjhGGW2fMMy",
        "outputId": "bd3bd170-e521-4bc9-8cee-9c7216e0436b"
      },
      "source": [
        "# Evaluates model performance (loss, accuracy)\r\n",
        "model_2.evaluate(x_test, y_test)"
      ],
      "execution_count": 33,
      "outputs": [
        {
          "output_type": "stream",
          "text": [
            "7/7 [==============================] - 0s 2ms/step - loss: 0.4077 - accuracy: 0.8904\n"
          ],
          "name": "stdout"
        },
        {
          "output_type": "execute_result",
          "data": {
            "text/plain": [
              "[0.4076816439628601, 0.8904109597206116]"
            ]
          },
          "metadata": {
            "tags": []
          },
          "execution_count": 33
        }
      ]
    },
    {
      "cell_type": "code",
      "metadata": {
        "colab": {
          "base_uri": "https://localhost:8080/",
          "height": 295
        },
        "id": "iICN3pDmfM2k",
        "outputId": "964a0650-8c9b-46bb-afd3-e36bdaa511ea"
      },
      "source": [
        "plt.plot(hist_2.history['loss'])\r\n",
        "plt.plot(hist_2.history['val_loss'])\r\n",
        "plt.title('Model loss')\r\n",
        "plt.ylabel('Loss')\r\n",
        "plt.xlabel('Epoch')\r\n",
        "plt.legend(['Train', 'Val'], loc='upper right')\r\n",
        "plt.ylim(top=1.2, bottom=0)\r\n",
        "plt.show()"
      ],
      "execution_count": 34,
      "outputs": [
        {
          "output_type": "display_data",
          "data": {
            "image/png": "[encoded data removed]",
            "text/plain": [
              "<Figure size 432x288 with 1 Axes>"
            ]
          },
          "metadata": {
            "tags": [],
            "needs_background": "light"
          }
        }
      ]
    },
    {
      "cell_type": "code",
      "metadata": {
        "colab": {
          "base_uri": "https://localhost:8080/",
          "height": 295
        },
        "id": "g4m586nYfQZx",
        "outputId": "600def99-7748-4848-d7e3-645a7670b94c"
      },
      "source": [
        "plt.plot(hist_2.history['accuracy'])\r\n",
        "plt.plot(hist_2.history['val_accuracy'])\r\n",
        "plt.title('Model accuracy')\r\n",
        "plt.ylabel('Accuracy')\r\n",
        "plt.xlabel('Epoch')\r\n",
        "plt.legend(['Train', 'Val'], loc='lower right')\r\n",
        "plt.show()"
      ],
      "execution_count": 35,
      "outputs": [
        {
          "output_type": "display_data",
          "data": {
            "image/png": "[encoded data removed]",
            "text/plain": [
              "<Figure size 432x288 with 1 Axes>"
            ]
          },
          "metadata": {
            "tags": [],
            "needs_background": "light"
          }
        }
      ]
    }
  ]
}