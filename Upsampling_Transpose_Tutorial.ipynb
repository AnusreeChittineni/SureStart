{
  "nbformat": 4,
  "nbformat_minor": 0,
  "metadata": {
    "colab": {
      "name": "Upsampling_Transpose_Tutorial.ipynb",
      "provenance": [],
      "authorship_tag": "ABX9TyPW0A9HK65KM0u488k5dvUy",
      "include_colab_link": true
    },
    "kernelspec": {
      "name": "python3",
      "display_name": "Python 3"
    },
    "accelerator": "GPU"
  },
  "cells": [
    {
      "cell_type": "markdown",
      "metadata": {
        "id": "view-in-github",
        "colab_type": "text"
      },
      "source": [
        "<a href=\"https://colab.research.google.com/github/AnusreeChittineni/VAIL_2021/blob/main/Upsampling_Transpose_Tutorial.ipynb\" target=\"_parent\"><img src=\"https://colab.research.google.com/assets/colab-badge.svg\" alt=\"Open In Colab\"/></a>"
      ]
    },
    {
      "cell_type": "markdown",
      "metadata": {
        "id": "mzSxRoTIUJeA"
      },
      "source": [
        "### How to Use the UpSampling2D Layer\r\n"
      ]
    },
    {
      "cell_type": "code",
      "metadata": {
        "id": "CX-zwCDGOxqU"
      },
      "source": [
        "from tensorflow.keras import Sequential\r\n",
        "from tensorflow.keras.layers import UpSampling2D\r\n",
        "import numpy as np"
      ],
      "execution_count": 12,
      "outputs": []
    },
    {
      "cell_type": "code",
      "metadata": {
        "colab": {
          "base_uri": "https://localhost:8080/"
        },
        "id": "V2U36UWRdP38",
        "outputId": "28f0304d-0094-4f82-8877-e2a472bb02d4"
      },
      "source": [
        "# define input data\r\n",
        "X = np.asarray([[1, 2],\r\n",
        "\t\t\t [3, 4]])\r\n",
        "\r\n",
        "# show input data for context\r\n",
        "print(X)\r\n",
        "X.shape"
      ],
      "execution_count": 17,
      "outputs": [
        {
          "output_type": "stream",
          "text": [
            "[[1 2]\n",
            " [3 4]]\n"
          ],
          "name": "stdout"
        },
        {
          "output_type": "execute_result",
          "data": {
            "text/plain": [
              "(2, 2)"
            ]
          },
          "metadata": {
            "tags": []
          },
          "execution_count": 17
        }
      ]
    },
    {
      "cell_type": "code",
      "metadata": {
        "colab": {
          "base_uri": "https://localhost:8080/"
        },
        "id": "0wyPNt6DdmtA",
        "outputId": "6255050e-5194-4758-e496-4f0f09fb7f45"
      },
      "source": [
        "# reshape input data into one sample a sample with a channel\r\n",
        "X = X.reshape((1, 2, 2, 1))\r\n",
        "print(X)"
      ],
      "execution_count": 18,
      "outputs": [
        {
          "output_type": "stream",
          "text": [
            "[[[[1]\n",
            "   [2]]\n",
            "\n",
            "  [[3]\n",
            "   [4]]]]\n"
          ],
          "name": "stdout"
        }
      ]
    },
    {
      "cell_type": "code",
      "metadata": {
        "colab": {
          "base_uri": "https://localhost:8080/"
        },
        "id": "WTWtqtIweB1y",
        "outputId": "4e6011e5-34ba-4fba-85d8-fb9a280d7060"
      },
      "source": [
        "# define model\r\n",
        "model = Sequential()\r\n",
        "model.add(UpSampling2D(input_shape=(2, 2, 1)))\r\n",
        "\r\n",
        "# summarize the model\r\n",
        "model.summary()"
      ],
      "execution_count": 19,
      "outputs": [
        {
          "output_type": "stream",
          "text": [
            "Model: \"sequential_3\"\n",
            "_________________________________________________________________\n",
            "Layer (type)                 Output Shape              Param #   \n",
            "=================================================================\n",
            "up_sampling2d_3 (UpSampling2 (None, 4, 4, 1)           0         \n",
            "=================================================================\n",
            "Total params: 0\n",
            "Trainable params: 0\n",
            "Non-trainable params: 0\n",
            "_________________________________________________________________\n"
          ],
          "name": "stdout"
        }
      ]
    },
    {
      "cell_type": "code",
      "metadata": {
        "id": "CDQ6PdAneL1y"
      },
      "source": [
        "# make a prediction with the model\r\n",
        "yhat = model.predict(X)"
      ],
      "execution_count": 22,
      "outputs": []
    },
    {
      "cell_type": "code",
      "metadata": {
        "colab": {
          "base_uri": "https://localhost:8080/"
        },
        "id": "W5hCxuR8eTuU",
        "outputId": "9bba54c2-6c0c-4c57-95b2-6509ab03e5ac"
      },
      "source": [
        "# reshape output to remove channel to make printing easier\r\n",
        "yhat = yhat.reshape((4, 4))\r\n",
        "\r\n",
        "# summarize output\r\n",
        "# each row and column is doubled \r\n",
        "print(yhat)"
      ],
      "execution_count": 23,
      "outputs": [
        {
          "output_type": "stream",
          "text": [
            "[[1. 1. 2. 2.]\n",
            " [1. 1. 2. 2.]\n",
            " [3. 3. 4. 4.]\n",
            " [3. 3. 4. 4.]]\n"
          ],
          "name": "stdout"
        }
      ]
    },
    {
      "cell_type": "code",
      "metadata": {
        "colab": {
          "base_uri": "https://localhost:8080/"
        },
        "id": "0Ijz1sfSe1qn",
        "outputId": "3f0e870b-9927-44a7-9049-0880031199ca"
      },
      "source": [
        "# example of using different scale factors for each dimension\r\n",
        "\r\n",
        "# define model\r\n",
        "model_2 = Sequential()\r\n",
        "model_2.add(UpSampling2D(size=(2, 3), input_shape=(2,2,1)))\r\n",
        "\r\n",
        "# summarize the model\r\n",
        "model_2.summary()\r\n",
        "\r\n",
        "# make a prediction with the model\r\n",
        "yhat_2 = model_2.predict(X)\r\n",
        "\r\n",
        "# summarize output\r\n",
        "# each row is doubled and each column is tripled \r\n",
        "print(yhat_2)"
      ],
      "execution_count": 32,
      "outputs": [
        {
          "output_type": "stream",
          "text": [
            "Model: \"sequential_10\"\n",
            "_________________________________________________________________\n",
            "Layer (type)                 Output Shape              Param #   \n",
            "=================================================================\n",
            "up_sampling2d_10 (UpSampling (None, 4, 6, 1)           0         \n",
            "=================================================================\n",
            "Total params: 0\n",
            "Trainable params: 0\n",
            "Non-trainable params: 0\n",
            "_________________________________________________________________\n",
            "[[[[1.]\n",
            "   [1.]\n",
            "   [1.]\n",
            "   [2.]\n",
            "   [2.]\n",
            "   [2.]]\n",
            "\n",
            "  [[1.]\n",
            "   [1.]\n",
            "   [1.]\n",
            "   [2.]\n",
            "   [2.]\n",
            "   [2.]]\n",
            "\n",
            "  [[3.]\n",
            "   [3.]\n",
            "   [3.]\n",
            "   [4.]\n",
            "   [4.]\n",
            "   [4.]]\n",
            "\n",
            "  [[3.]\n",
            "   [3.]\n",
            "   [3.]\n",
            "   [4.]\n",
            "   [4.]\n",
            "   [4.]]]]\n"
          ],
          "name": "stdout"
        }
      ]
    },
    {
      "cell_type": "code",
      "metadata": {
        "colab": {
          "base_uri": "https://localhost:8080/"
        },
        "id": "ADwSAkeAf8Vf",
        "outputId": "2322d7c1-d272-4fe9-da22-7c80769f9282"
      },
      "source": [
        "# example of using bilinear interpolation when upsampling\r\n",
        "\r\n",
        "# define model\r\n",
        "model_3 = Sequential()\r\n",
        "model_3.add(UpSampling2D(interpolation='bilinear', input_shape=(2,2,1)))\r\n",
        "\r\n",
        "# summarize the model\r\n",
        "model_3.summary()\r\n",
        "\r\n",
        "# make a prediction with the model\r\n",
        "yhat_3 = model_3.predict(X)\r\n",
        "\r\n",
        "# summarize output\r\n",
        "print(yhat_3)"
      ],
      "execution_count": 34,
      "outputs": [
        {
          "output_type": "stream",
          "text": [
            "Model: \"sequential_12\"\n",
            "_________________________________________________________________\n",
            "Layer (type)                 Output Shape              Param #   \n",
            "=================================================================\n",
            "up_sampling2d_12 (UpSampling (None, 4, 4, 1)           0         \n",
            "=================================================================\n",
            "Total params: 0\n",
            "Trainable params: 0\n",
            "Non-trainable params: 0\n",
            "_________________________________________________________________\n",
            "WARNING:tensorflow:6 out of the last 8 calls to <function Model.make_predict_function.<locals>.predict_function at 0x7fd1524ff710> triggered tf.function retracing. Tracing is expensive and the excessive number of tracings could be due to (1) creating @tf.function repeatedly in a loop, (2) passing tensors with different shapes, (3) passing Python objects instead of tensors. For (1), please define your @tf.function outside of the loop. For (2), @tf.function has experimental_relax_shapes=True option that relaxes argument shapes that can avoid unnecessary retracing. For (3), please refer to https://www.tensorflow.org/guide/function#controlling_retracing and https://www.tensorflow.org/api_docs/python/tf/function for  more details.\n",
            "[[[[1.  ]\n",
            "   [1.25]\n",
            "   [1.75]\n",
            "   [2.  ]]\n",
            "\n",
            "  [[1.5 ]\n",
            "   [1.75]\n",
            "   [2.25]\n",
            "   [2.5 ]]\n",
            "\n",
            "  [[2.5 ]\n",
            "   [2.75]\n",
            "   [3.25]\n",
            "   [3.5 ]]\n",
            "\n",
            "  [[3.  ]\n",
            "   [3.25]\n",
            "   [3.75]\n",
            "   [4.  ]]]]\n"
          ],
          "name": "stdout"
        }
      ]
    },
    {
      "cell_type": "markdown",
      "metadata": {
        "id": "obtbWiVRhB8N"
      },
      "source": [
        "### Simple Generator Model With the UpSampling2D Layer\r\n"
      ]
    },
    {
      "cell_type": "code",
      "metadata": {
        "id": "deWAv0qKhKZ7"
      },
      "source": [
        "from tensorflow.keras.models import Sequential\r\n",
        "from tensorflow.keras.layers import Dense\r\n",
        "from tensorflow.keras.layers import Reshape\r\n",
        "from tensorflow.keras.layers import UpSampling2D\r\n",
        "from tensorflow.keras.layers import Conv2D"
      ],
      "execution_count": 37,
      "outputs": []
    },
    {
      "cell_type": "code",
      "metadata": {
        "colab": {
          "base_uri": "https://localhost:8080/"
        },
        "id": "LjlzcEsAhExx",
        "outputId": "c92973cf-18f8-4173-b621-29f684c147d6"
      },
      "source": [
        "# example of using upsampling in a simple generator model\r\n",
        "\r\n",
        "# define model\r\n",
        "model_4 = Sequential()\r\n",
        "# define input shape, output enough activations for for 128 5x5 image\r\n",
        "model_4.add(Dense(128 * 5 * 5, input_dim=100))\r\n",
        "# reshape vector of activations into 128 feature maps with 5x5\r\n",
        "model_4.add(Reshape((5, 5, 128)))\r\n",
        "# double input from 128 5x5 to 1 10x10 feature map\r\n",
        "model_4.add(UpSampling2D())\r\n",
        "# fill in detail in the upsampled feature maps and output a single image\r\n",
        "model_4.add(Conv2D(1, (3,3), padding='same'))\r\n",
        "# summarize model\r\n",
        "model_4.summary()"
      ],
      "execution_count": 38,
      "outputs": [
        {
          "output_type": "stream",
          "text": [
            "Model: \"sequential_14\"\n",
            "_________________________________________________________________\n",
            "Layer (type)                 Output Shape              Param #   \n",
            "=================================================================\n",
            "dense_1 (Dense)              (None, 3200)              323200    \n",
            "_________________________________________________________________\n",
            "reshape_1 (Reshape)          (None, 5, 5, 128)         0         \n",
            "_________________________________________________________________\n",
            "up_sampling2d_14 (UpSampling (None, 10, 10, 128)       0         \n",
            "_________________________________________________________________\n",
            "conv2d_1 (Conv2D)            (None, 10, 10, 1)         1153      \n",
            "=================================================================\n",
            "Total params: 324,353\n",
            "Trainable params: 324,353\n",
            "Non-trainable params: 0\n",
            "_________________________________________________________________\n"
          ],
          "name": "stdout"
        }
      ]
    },
    {
      "cell_type": "markdown",
      "metadata": {
        "id": "NR5XbtqZhisW"
      },
      "source": [
        "### How to Use the Conv2DTranspose Layer"
      ]
    },
    {
      "cell_type": "code",
      "metadata": {
        "id": "wCSFwwAci3ce"
      },
      "source": [
        "from tensorflow.keras.models import Sequential\r\n",
        "from tensorflow.keras.layers import Conv2DTranspose"
      ],
      "execution_count": 39,
      "outputs": []
    },
    {
      "cell_type": "code",
      "metadata": {
        "colab": {
          "base_uri": "https://localhost:8080/"
        },
        "id": "AjBA_TaVhkD4",
        "outputId": "630f44a1-668b-4365-b06a-ec79afa04efa"
      },
      "source": [
        "# example of using the transpose convolutional layer\r\n",
        "\r\n",
        "# define model\r\n",
        "model_5 = Sequential()\r\n",
        "model_5.add(Conv2DTranspose(1, (1,1), strides=(2,2), input_shape=(2, 2, 1)))\r\n",
        "# summarize the model\r\n",
        "model_5.summary()\r\n",
        "# define weights that they do nothing\r\n",
        "weights = [asarray([[[[1]]]]), asarray([0])]\r\n",
        "# store the weights in the model\r\n",
        "model_5.set_weights(weights)\r\n",
        "# make a prediction with the model\r\n",
        "yhat_5 = model_5.predict(X)\r\n",
        "# reshape output to remove channel to make printing easier\r\n",
        "yhat_5 = yhat_5.reshape((4, 4))\r\n",
        "# summarize output\r\n",
        "print(yhat_5)"
      ],
      "execution_count": 40,
      "outputs": [
        {
          "output_type": "stream",
          "text": [
            "Model: \"sequential_15\"\n",
            "_________________________________________________________________\n",
            "Layer (type)                 Output Shape              Param #   \n",
            "=================================================================\n",
            "conv2d_transpose (Conv2DTran (None, 4, 4, 1)           2         \n",
            "=================================================================\n",
            "Total params: 2\n",
            "Trainable params: 2\n",
            "Non-trainable params: 0\n",
            "_________________________________________________________________\n",
            "WARNING:tensorflow:7 out of the last 9 calls to <function Model.make_predict_function.<locals>.predict_function at 0x7fd1525f3830> triggered tf.function retracing. Tracing is expensive and the excessive number of tracings could be due to (1) creating @tf.function repeatedly in a loop, (2) passing tensors with different shapes, (3) passing Python objects instead of tensors. For (1), please define your @tf.function outside of the loop. For (2), @tf.function has experimental_relax_shapes=True option that relaxes argument shapes that can avoid unnecessary retracing. For (3), please refer to https://www.tensorflow.org/guide/function#controlling_retracing and https://www.tensorflow.org/api_docs/python/tf/function for  more details.\n",
            "[[1. 0. 2. 0.]\n",
            " [0. 0. 0. 0.]\n",
            " [3. 0. 4. 0.]\n",
            " [0. 0. 0. 0.]]\n"
          ],
          "name": "stdout"
        }
      ]
    },
    {
      "cell_type": "markdown",
      "metadata": {
        "id": "V7Xxv_FXj9Hz"
      },
      "source": [
        "### Simple Generator Model With the Conv2DTranspose Layer\r\n"
      ]
    },
    {
      "cell_type": "code",
      "metadata": {
        "colab": {
          "base_uri": "https://localhost:8080/"
        },
        "id": "ANaoIixgj-Cu",
        "outputId": "dce23a7f-4356-4801-d080-b43d47c78b98"
      },
      "source": [
        "# define model\r\n",
        "model_6 = Sequential()\r\n",
        "# define input shape, output enough activations for for 128 5x5 image\r\n",
        "model_6.add(Dense(128 * 5 * 5, input_dim=100))\r\n",
        "# reshape vector of activations into 128 feature maps with 5x5\r\n",
        "model_6.add(Reshape((5, 5, 128)))\r\n",
        "# double input from 128 5x5 to 1 10x10 feature map\r\n",
        "model_6.add(Conv2DTranspose(1, (3,3), strides=(2,2), padding='same'))\r\n",
        "# summarize model\r\n",
        "model_6.summary()"
      ],
      "execution_count": 41,
      "outputs": [
        {
          "output_type": "stream",
          "text": [
            "Model: \"sequential_16\"\n",
            "_________________________________________________________________\n",
            "Layer (type)                 Output Shape              Param #   \n",
            "=================================================================\n",
            "dense_2 (Dense)              (None, 3200)              323200    \n",
            "_________________________________________________________________\n",
            "reshape_2 (Reshape)          (None, 5, 5, 128)         0         \n",
            "_________________________________________________________________\n",
            "conv2d_transpose_1 (Conv2DTr (None, 10, 10, 1)         1153      \n",
            "=================================================================\n",
            "Total params: 324,353\n",
            "Trainable params: 324,353\n",
            "Non-trainable params: 0\n",
            "_________________________________________________________________\n"
          ],
          "name": "stdout"
        }
      ]
    }
  ]
}