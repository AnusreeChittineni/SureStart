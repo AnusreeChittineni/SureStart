{
  "nbformat": 4,
  "nbformat_minor": 0,
  "metadata": {
    "colab": {
      "name": "Sarcasm_detection.ipynb",
      "provenance": [],
      "mount_file_id": "1CoBeRv_ireCgUi8pd6PQWwMmHWLGN57m",
      "authorship_tag": "ABX9TyOoZJ7pAI8MCqYQpIp1l4+8",
      "include_colab_link": true
    },
    "kernelspec": {
      "name": "python3",
      "display_name": "Python 3"
    },
    "accelerator": "GPU"
  },
  "cells": [
    {
      "cell_type": "markdown",
      "metadata": {
        "id": "view-in-github",
        "colab_type": "text"
      },
      "source": [
        "<a href=\"https://colab.research.google.com/github/AnusreeChittineni/VAIL_2021/blob/main/Sarcasm_detection.ipynb\" target=\"_parent\"><img src=\"https://colab.research.google.com/assets/colab-badge.svg\" alt=\"Open In Colab\"/></a>"
      ]
    },
    {
      "cell_type": "code",
      "metadata": {
        "id": "PJtrdzWPdpGi"
      },
      "source": [
        "# unzips neccessarry zip files in Drive\r\n",
        "# only needs to be run once for your Drive\r\n",
        "!unzip -uq \"/content/drive/MyDrive/Sarcasm_Headlines_Dataset.json.zip\" -d \"/content/drive/My Drive/SarcasmDetection\""
      ],
      "execution_count": null,
      "outputs": []
    },
    {
      "cell_type": "code",
      "metadata": {
        "colab": {
          "base_uri": "https://localhost:8080/"
        },
        "id": "CeA9oVy3el6m",
        "outputId": "aeabe044-1e88-458a-b43a-78fb44ac0bb0"
      },
      "source": [
        "import json\r\n",
        "\r\n",
        "# reading data\r\n",
        "def parse_data(file):\r\n",
        "    for l in open(file,'r'):\r\n",
        "        yield json.loads(l)\r\n",
        "\r\n",
        "# intializes a list called data to store data\r\n",
        "data = list(parse_data('/content/drive/MyDrive/SarcasmDetection/Sarcasm_Headlines_Dataset.json'))\r\n",
        "print(data[0])"
      ],
      "execution_count": 1,
      "outputs": [
        {
          "output_type": "stream",
          "text": [
            "{'article_link': 'https://www.huffingtonpost.com/entry/versace-black-code_us_5861fbefe4b0de3a08f600d5', 'headline': \"former versace store clerk sues over secret 'black code' for minority shoppers\", 'is_sarcastic': 0}\n"
          ],
          "name": "stdout"
        }
      ]
    },
    {
      "cell_type": "code",
      "metadata": {
        "colab": {
          "base_uri": "https://localhost:8080/"
        },
        "id": "cUs9vEZak3vL",
        "outputId": "9bbfd8a3-db36-4061-9522-c8fa97b68b7f"
      },
      "source": [
        "# imports pandas database\r\n",
        "import pandas as pd\r\n",
        "\r\n",
        "# intializes pandas dataframe to store data\r\n",
        "df = pd.DataFrame(data)\r\n",
        "print(df.head())"
      ],
      "execution_count": 2,
      "outputs": [
        {
          "output_type": "stream",
          "text": [
            "                                        article_link  ... is_sarcastic\n",
            "0  https://www.huffingtonpost.com/entry/versace-b...  ...            0\n",
            "1  https://www.huffingtonpost.com/entry/roseanne-...  ...            0\n",
            "2  https://local.theonion.com/mom-starting-to-fea...  ...            1\n",
            "3  https://politics.theonion.com/boehner-just-wan...  ...            1\n",
            "4  https://www.huffingtonpost.com/entry/jk-rowlin...  ...            0\n",
            "\n",
            "[5 rows x 3 columns]\n"
          ],
          "name": "stdout"
        }
      ]
    },
    {
      "cell_type": "code",
      "metadata": {
        "id": "AzZSBAwDU8f5"
      },
      "source": [
        "from sklearn.model_selection import train_test_split\r\n",
        "import sklearn\r\n",
        "import tensorflow as tf\r\n",
        "from tensorflow.keras.preprocessing.text import Tokenizer\r\n",
        "from tensorflow.keras.preprocessing import sequence\r\n",
        "import numpy as np"
      ],
      "execution_count": 3,
      "outputs": []
    },
    {
      "cell_type": "code",
      "metadata": {
        "colab": {
          "base_uri": "https://localhost:8080/"
        },
        "id": "VsJ18F1Tfc4-",
        "outputId": "c56162f6-d584-4f3f-de09-22ac2100e981"
      },
      "source": [
        "# initlaizes input and output values\r\n",
        "x = df['headline'].values\r\n",
        "y = df['is_sarcastic'].values\r\n",
        "\r\n",
        "# splits data into training and testing groups\r\n",
        "x_train, x_test, y_train, y_test = train_test_split(x, y, test_size=0.30)\r\n",
        "x_test, x_validate, y_test, y_validate = train_test_split(x_test, y_test, test_size=0.50)\r\n",
        "\r\n",
        "# prints shape of data\r\n",
        "print(x_train.shape, x_test.shape, x_validate.shape, y_train.shape, y_test.shape, y_validate.shape)"
      ],
      "execution_count": 4,
      "outputs": [
        {
          "output_type": "stream",
          "text": [
            "(18696,) (4006,) (4007,) (18696,) (4006,) (4007,)\n"
          ],
          "name": "stdout"
        }
      ]
    },
    {
      "cell_type": "code",
      "metadata": {
        "id": "2o4_ZlVYU3mO"
      },
      "source": [
        "tokenizer = Tokenizer(oov_token=\"<OOV>\")\r\n",
        "tokenizer.fit_on_texts(x_train) \r\n",
        "\r\n",
        "word_index = tokenizer.word_index\r\n",
        "\r\n",
        "training_sequences = tokenizer.texts_to_sequences(x_train)\r\n",
        "max_sequence_train = max(len(x) for x in training_sequences)\r\n",
        "training_padded = np.array([np.pad(x, (0, max_sequence_train - len(x))) for x in training_sequences])\r\n",
        "#training_padded = sequence.pad_sequences(training_sequences, maxlen=100, padding=\"post\", truncating=\"post\")\r\n",
        "\r\n",
        "val_sequences = tokenizer.texts_to_sequences(x_validate)\r\n",
        "max_sequence_val = max(len(x) for x in val_sequences)\r\n",
        "val_padded = np.array([np.pad(x, (0, max_sequence_val - len(x))) for x in val_sequences])\r\n",
        "#val_padded = sequence.pad_sequences(val_sequences, maxlen=100, padding=\"post\", truncating=\"post\")\r\n",
        "\r\n",
        "testing_sequences = tokenizer.texts_to_sequences(x_test)\r\n",
        "max_sequence_test = max(len(x) for x in testing_sequences)\r\n",
        "testing_padded = np.array([np.pad(x, (0, max_sequence_test - len(x))) for x in testing_sequences])\r\n",
        "#testing_padded = sequence.pad_sequences(testing_sequences, maxlen=100, padding=\"post\", truncating=\"post\")\r\n"
      ],
      "execution_count": 13,
      "outputs": []
    },
    {
      "cell_type": "code",
      "metadata": {
        "id": "j8fnfOweU1EG"
      },
      "source": [
        "training_padded = np.array(training_padded)\r\n",
        "val_padded = np.array(val_padded)\r\n",
        "testing_padded = np.array(testing_padded)\r\n",
        "y_test = np.array(y_test)"
      ],
      "execution_count": 14,
      "outputs": []
    },
    {
      "cell_type": "code",
      "metadata": {
        "colab": {
          "base_uri": "https://localhost:8080/"
        },
        "id": "x8dEYC0fU0yn",
        "outputId": "3e70d761-ff2f-4f90-f410-a6c4f132dcd3"
      },
      "source": [
        "model = tf.keras.models.Sequential([\r\n",
        "        tf.keras.layers.Embedding(len(word_index) + 1, 2, input_shape=[None]),\r\n",
        "        tf.keras.layers.LSTM(50, return_sequences=False),\r\n",
        "        tf.keras.layers.Dense(25, activation=\"relu\"),\r\n",
        "        tf.keras.layers.Dense(10, activation=\"relu\"),\r\n",
        "        tf.keras.layers.Dense(5, activation=\"relu\"),\r\n",
        "        tf.keras.layers.Dense(1, activation='sigmoid')\r\n",
        "])\r\n",
        "\r\n",
        "model.summary()"
      ],
      "execution_count": 15,
      "outputs": [
        {
          "output_type": "stream",
          "text": [
            "Model: \"sequential_2\"\n",
            "_________________________________________________________________\n",
            "Layer (type)                 Output Shape              Param #   \n",
            "=================================================================\n",
            "embedding_2 (Embedding)      (None, None, 2)           49508     \n",
            "_________________________________________________________________\n",
            "lstm_2 (LSTM)                (None, 50)                10600     \n",
            "_________________________________________________________________\n",
            "dense_8 (Dense)              (None, 25)                1275      \n",
            "_________________________________________________________________\n",
            "dense_9 (Dense)              (None, 10)                260       \n",
            "_________________________________________________________________\n",
            "dense_10 (Dense)             (None, 5)                 55        \n",
            "_________________________________________________________________\n",
            "dense_11 (Dense)             (None, 1)                 6         \n",
            "=================================================================\n",
            "Total params: 61,704\n",
            "Trainable params: 61,704\n",
            "Non-trainable params: 0\n",
            "_________________________________________________________________\n"
          ],
          "name": "stdout"
        }
      ]
    },
    {
      "cell_type": "code",
      "metadata": {
        "id": "YgBP_zKJxNzn",
        "colab": {
          "base_uri": "https://localhost:8080/"
        },
        "outputId": "bf76a062-f8cf-4450-be15-5fd45b79be08"
      },
      "source": [
        "# try with various optimizer and loss algorithms\r\n",
        "# (SGD, MSE, 56), (Adam, MSE, 93), (Adam, BC, 97)\r\n",
        "model.compile(optimizer='Adam', loss='BinaryCrossentropy', metrics=['accuracy'])\r\n",
        "\r\n",
        "history = model.fit(training_padded, y_train, validation_data=(val_padded, y_validate), \r\n",
        "          epochs=15, verbose=1)"
      ],
      "execution_count": 16,
      "outputs": [
        {
          "output_type": "stream",
          "text": [
            "Epoch 1/15\n",
            "585/585 [==============================] - 6s 7ms/step - loss: 0.6877 - accuracy: 0.5528 - val_loss: 0.6864 - val_accuracy: 0.5588\n",
            "Epoch 2/15\n",
            "585/585 [==============================] - 4s 7ms/step - loss: 0.6825 - accuracy: 0.5750 - val_loss: 0.6677 - val_accuracy: 0.5857\n",
            "Epoch 3/15\n",
            "585/585 [==============================] - 4s 7ms/step - loss: 0.6222 - accuracy: 0.6275 - val_loss: 0.5347 - val_accuracy: 0.7769\n",
            "Epoch 4/15\n",
            "585/585 [==============================] - 4s 7ms/step - loss: 0.4449 - accuracy: 0.8336 - val_loss: 0.5061 - val_accuracy: 0.7951\n",
            "Epoch 5/15\n",
            "585/585 [==============================] - 4s 7ms/step - loss: 0.4127 - accuracy: 0.8242 - val_loss: 0.5270 - val_accuracy: 0.7392\n",
            "Epoch 6/15\n",
            "585/585 [==============================] - 4s 7ms/step - loss: 0.4129 - accuracy: 0.8115 - val_loss: 0.5151 - val_accuracy: 0.7699\n",
            "Epoch 7/15\n",
            "585/585 [==============================] - 4s 7ms/step - loss: 0.3473 - accuracy: 0.8685 - val_loss: 0.5320 - val_accuracy: 0.7946\n",
            "Epoch 8/15\n",
            "585/585 [==============================] - 4s 7ms/step - loss: 0.3013 - accuracy: 0.9031 - val_loss: 0.5478 - val_accuracy: 0.8048\n",
            "Epoch 9/15\n",
            "585/585 [==============================] - 4s 7ms/step - loss: 0.2745 - accuracy: 0.9133 - val_loss: 0.5213 - val_accuracy: 0.8188\n",
            "Epoch 10/15\n",
            "585/585 [==============================] - 4s 7ms/step - loss: 0.3251 - accuracy: 0.8948 - val_loss: 0.5679 - val_accuracy: 0.8096\n",
            "Epoch 11/15\n",
            "585/585 [==============================] - 4s 7ms/step - loss: 0.2389 - accuracy: 0.9340 - val_loss: 0.5106 - val_accuracy: 0.7497\n",
            "Epoch 12/15\n",
            "585/585 [==============================] - 4s 7ms/step - loss: 0.3503 - accuracy: 0.8431 - val_loss: 0.4287 - val_accuracy: 0.8378\n",
            "Epoch 13/15\n",
            "585/585 [==============================] - 4s 7ms/step - loss: 0.2037 - accuracy: 0.9303 - val_loss: 0.5769 - val_accuracy: 0.7370\n",
            "Epoch 14/15\n",
            "585/585 [==============================] - 4s 7ms/step - loss: 0.3207 - accuracy: 0.8806 - val_loss: 0.6006 - val_accuracy: 0.8101\n",
            "Epoch 15/15\n",
            "585/585 [==============================] - 4s 7ms/step - loss: 0.1986 - accuracy: 0.9483 - val_loss: 0.4955 - val_accuracy: 0.8320\n"
          ],
          "name": "stdout"
        }
      ]
    },
    {
      "cell_type": "code",
      "metadata": {
        "colab": {
          "base_uri": "https://localhost:8080/"
        },
        "id": "7rckRo_igf1o",
        "outputId": "0f8342b8-50db-4443-fcd7-014f7378e1e9"
      },
      "source": [
        "results = model.evaluate(testing_padded, y_test)\r\n",
        "print(\"test loss, test acc:\", results)\r\n",
        "\r\n",
        "predictions = model.predict(testing_padded)\r\n",
        "predictions = np.argmax(predictions, axis=1)\r\n",
        "\r\n",
        "#print(predictions)\r\n",
        "\r\n",
        "# I don't understand why this line of code does not work\r\n",
        "print(sklearn.metrics.accuracy_score(y_test, predictions, normalize=True))"
      ],
      "execution_count": 20,
      "outputs": [
        {
          "output_type": "stream",
          "text": [
            "126/126 [==============================] - 0s 3ms/step - loss: 0.4964 - accuracy: 0.8345\n",
            "test loss, test acc: [0.49636679887771606, 0.8344982266426086]\n",
            "0.5486769845232152\n"
          ],
          "name": "stdout"
        }
      ]
    },
    {
      "cell_type": "code",
      "metadata": {
        "colab": {
          "base_uri": "https://localhost:8080/",
          "height": 541
        },
        "id": "9lVFhArmmYXo",
        "outputId": "e41d3ce7-5fde-4b4e-d883-bc986b467a54"
      },
      "source": [
        "import matplotlib.pyplot as plt\r\n",
        "\r\n",
        "def plot_data(model_history, string):\r\n",
        "    plt.plot(history.history[string])\r\n",
        "    plt.plot(history.history['val_'+string])\r\n",
        "    plt.xlabel(\"Epochs\")\r\n",
        "    plt.ylabel(string)\r\n",
        "    plt.legend([string, 'val_'+string])\r\n",
        "    plt.show()\r\n",
        "  \r\n",
        "plot_data(history, \"accuracy\")\r\n",
        "plot_data(history, \"loss\")\r\n"
      ],
      "execution_count": 21,
      "outputs": [
        {
          "output_type": "display_data",
          "data": {
            "image/png": "[encoded data removed]",
            "text/plain": [
              "<Figure size 432x288 with 1 Axes>"
            ]
          },
          "metadata": {
            "tags": [],
            "needs_background": "light"
          }
        },
        {
          "output_type": "display_data",
          "data": {
            "image/png": "[encoded data removed]",
            "text/plain": [
              "<Figure size 432x288 with 1 Axes>"
            ]
          },
          "metadata": {
            "tags": [],
            "needs_background": "light"
          }
        }
      ]
    }
  ]
}