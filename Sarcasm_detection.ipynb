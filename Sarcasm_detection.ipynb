{
  "nbformat": 4,
  "nbformat_minor": 0,
  "metadata": {
    "colab": {
      "name": "Sarcasm_detection.ipynb",
      "provenance": [],
      "mount_file_id": "1CoBeRv_ireCgUi8pd6PQWwMmHWLGN57m",
      "authorship_tag": "ABX9TyOCpUzxyVOZ/tcAn2xdkAPQ",
      "include_colab_link": true
    },
    "kernelspec": {
      "name": "python3",
      "display_name": "Python 3"
    },
    "accelerator": "GPU"
  },
  "cells": [
    {
      "cell_type": "markdown",
      "metadata": {
        "id": "view-in-github",
        "colab_type": "text"
      },
      "source": [
        "<a href=\"https://colab.research.google.com/github/AnusreeChittineni/VAIL_2021/blob/main/Sarcasm_detection.ipynb\" target=\"_parent\"><img src=\"https://colab.research.google.com/assets/colab-badge.svg\" alt=\"Open In Colab\"/></a>"
      ]
    },
    {
      "cell_type": "code",
      "metadata": {
        "id": "PJtrdzWPdpGi"
      },
      "source": [
        "# unzips neccessarry zip files in Drive\r\n",
        "# only needs to be run once for your Drive\r\n",
        "!unzip -uq \"/content/drive/MyDrive/Sarcasm_Headlines_Dataset.json.zip\" -d \"/content/drive/My Drive/SarcasmDetection\""
      ],
      "execution_count": null,
      "outputs": []
    },
    {
      "cell_type": "code",
      "metadata": {
        "colab": {
          "base_uri": "https://localhost:8080/"
        },
        "id": "CeA9oVy3el6m",
        "outputId": "6b69b4f9-695f-482a-a78a-4ba481b91778"
      },
      "source": [
        "import json\r\n",
        "\r\n",
        "# reading data\r\n",
        "def parse_data(file):\r\n",
        "    for l in open(file,'r'):\r\n",
        "        yield json.loads(l)\r\n",
        "\r\n",
        "# intializes a list called data to store data\r\n",
        "data = list(parse_data('/content/drive/MyDrive/SarcasmDetection/Sarcasm_Headlines_Dataset.json'))\r\n",
        "print(data[0])"
      ],
      "execution_count": 10,
      "outputs": [
        {
          "output_type": "stream",
          "text": [
            "{'article_link': 'https://www.huffingtonpost.com/entry/versace-black-code_us_5861fbefe4b0de3a08f600d5', 'headline': \"former versace store clerk sues over secret 'black code' for minority shoppers\", 'is_sarcastic': 0}\n"
          ],
          "name": "stdout"
        }
      ]
    },
    {
      "cell_type": "code",
      "metadata": {
        "colab": {
          "base_uri": "https://localhost:8080/"
        },
        "id": "cUs9vEZak3vL",
        "outputId": "22978826-0cbc-4856-99a0-7a564eb776d0"
      },
      "source": [
        "# imports pandas database\r\n",
        "import pandas as pd\r\n",
        "\r\n",
        "# intializes pandas dataframe to store data\r\n",
        "df = pd.DataFrame(data)\r\n",
        "print(df.head())"
      ],
      "execution_count": 11,
      "outputs": [
        {
          "output_type": "stream",
          "text": [
            "                                        article_link  ... is_sarcastic\n",
            "0  https://www.huffingtonpost.com/entry/versace-b...  ...            0\n",
            "1  https://www.huffingtonpost.com/entry/roseanne-...  ...            0\n",
            "2  https://local.theonion.com/mom-starting-to-fea...  ...            1\n",
            "3  https://politics.theonion.com/boehner-just-wan...  ...            1\n",
            "4  https://www.huffingtonpost.com/entry/jk-rowlin...  ...            0\n",
            "\n",
            "[5 rows x 3 columns]\n"
          ],
          "name": "stdout"
        }
      ]
    },
    {
      "cell_type": "code",
      "metadata": {
        "id": "AzZSBAwDU8f5"
      },
      "source": [
        "from sklearn.model_selection import train_test_split\r\n",
        "import sklearn\r\n",
        "import tensorflow as tf\r\n",
        "from tensorflow.keras.preprocessing.text import Tokenizer\r\n",
        "from tensorflow.keras.preprocessing import sequence\r\n",
        "import numpy as np"
      ],
      "execution_count": 12,
      "outputs": []
    },
    {
      "cell_type": "code",
      "metadata": {
        "colab": {
          "base_uri": "https://localhost:8080/"
        },
        "id": "VsJ18F1Tfc4-",
        "outputId": "53773e71-5bf2-4d40-d7dd-3305f8bb7398"
      },
      "source": [
        "# initlaizes input and output values\r\n",
        "x = df['headline'].values\r\n",
        "y = df['is_sarcastic'].values\r\n",
        "\r\n",
        "# splits data into training and testing groups\r\n",
        "x_train, x_test, y_train, y_test = train_test_split(x, y, test_size=0.30)\r\n",
        "x_test, x_validate, y_test, y_validate = train_test_split(x_test, y_test, test_size=0.50)\r\n",
        "\r\n",
        "# prints shape of data\r\n",
        "print(x_train.shape, x_test.shape, x_validate.shape, y_train.shape, y_test.shape, y_validate.shape)"
      ],
      "execution_count": 41,
      "outputs": [
        {
          "output_type": "stream",
          "text": [
            "(18696,) (4006,) (4007,) (18696,) (4006,) (4007,)\n"
          ],
          "name": "stdout"
        }
      ]
    },
    {
      "cell_type": "code",
      "metadata": {
        "id": "2o4_ZlVYU3mO"
      },
      "source": [
        "tokenizer = Tokenizer(oov_token=\"<OOV>\")\r\n",
        "tokenizer.fit_on_texts(x_train) \r\n",
        "\r\n",
        "word_index = tokenizer.word_index\r\n",
        "\r\n",
        "training_sequences = tokenizer.texts_to_sequences(x_train)\r\n",
        "max_sequence_train = max(len(x) for x in training_sequences)\r\n",
        "# training_padded = np.array([np.pad(x, (0, max_sequence_train - len(x))) for x in training_sequences])\r\n",
        "training_padded = sequence.pad_sequences(training_sequences, maxlen=100, padding=\"post\", truncating=\"post\")\r\n",
        "\r\n",
        "val_sequences = tokenizer.texts_to_sequences(x_validate)\r\n",
        "max_sequence_val = max(len(x) for x in val_sequences)\r\n",
        "# val_padded = np.array([np.pad(x, (0, max_sequence_val - len(x))) for x in val_sequences])\r\n",
        "val_padded = sequence.pad_sequences(val_sequences, maxlen=100, padding=\"post\", truncating=\"post\")\r\n",
        "\r\n",
        "testing_sequences = tokenizer.texts_to_sequences(x_test)\r\n",
        "max_sequence_test = max(len(x) for x in testing_sequences)\r\n",
        "# testing_padded = np.array([np.pad(x, (0, max_sequence_test - len(x))) for x in testing_sequences])\r\n",
        "testing_padded = sequence.pad_sequences(testing_sequences, maxlen=100, padding=\"post\", truncating=\"post\")\r\n"
      ],
      "execution_count": 77,
      "outputs": []
    },
    {
      "cell_type": "code",
      "metadata": {
        "id": "j8fnfOweU1EG"
      },
      "source": [
        "training_padded = np.array(training_padded)\r\n",
        "val_padded = np.array(val_padded)\r\n",
        "testing_padded = np.array(testing_padded)\r\n",
        "y_test = np.array(y_test)"
      ],
      "execution_count": 78,
      "outputs": []
    },
    {
      "cell_type": "code",
      "metadata": {
        "colab": {
          "base_uri": "https://localhost:8080/"
        },
        "id": "x8dEYC0fU0yn",
        "outputId": "0792502b-ca27-4574-e4d5-b5739c752279"
      },
      "source": [
        "model = tf.keras.models.Sequential([\r\n",
        "        tf.keras.layers.Embedding(len(word_index) + 1, 2, input_shape=[None]),\r\n",
        "        tf.keras.layers.LSTM(50, return_sequences=True),\r\n",
        "        tf.keras.layers.LSTM(25, return_sequences=True),\r\n",
        "        tf.keras.layers.Dense(10, activation=\"relu\"),\r\n",
        "        tf.keras.layers.Dense(5, activation=\"relu\"),\r\n",
        "        tf.keras.layers.Dense(1, activation='sigmoid')\r\n",
        "])\r\n",
        "\r\n",
        "model.summary()"
      ],
      "execution_count": 79,
      "outputs": [
        {
          "output_type": "stream",
          "text": [
            "Model: \"sequential_13\"\n",
            "_________________________________________________________________\n",
            "Layer (type)                 Output Shape              Param #   \n",
            "=================================================================\n",
            "embedding_13 (Embedding)     (None, None, 2)           49792     \n",
            "_________________________________________________________________\n",
            "lstm_24 (LSTM)               (None, None, 50)          10600     \n",
            "_________________________________________________________________\n",
            "lstm_25 (LSTM)               (None, None, 25)          7600      \n",
            "_________________________________________________________________\n",
            "dense_33 (Dense)             (None, None, 10)          260       \n",
            "_________________________________________________________________\n",
            "dense_34 (Dense)             (None, None, 5)           55        \n",
            "_________________________________________________________________\n",
            "dense_35 (Dense)             (None, None, 1)           6         \n",
            "=================================================================\n",
            "Total params: 68,313\n",
            "Trainable params: 68,313\n",
            "Non-trainable params: 0\n",
            "_________________________________________________________________\n"
          ],
          "name": "stdout"
        }
      ]
    },
    {
      "cell_type": "code",
      "metadata": {
        "id": "YgBP_zKJxNzn",
        "colab": {
          "base_uri": "https://localhost:8080/"
        },
        "outputId": "6a7b0e79-4cd8-40c3-9bf3-d082d4a32d61"
      },
      "source": [
        "# try with various optimizer and loss algorithms\r\n",
        "# (SGD, MSE, 56), (Adam, MSE, 93), (Adam, BC, 97)\r\n",
        "model.compile(optimizer='Adam', loss='BinaryCrossentropy', metrics=['accuracy'])\r\n",
        "\r\n",
        "history = model.fit(training_padded, y_train, validation_data=(val_padded, y_validate), \r\n",
        "          epochs=15, verbose=1)"
      ],
      "execution_count": 80,
      "outputs": [
        {
          "output_type": "stream",
          "text": [
            "Epoch 1/15\n",
            "585/585 [==============================] - 10s 13ms/step - loss: 0.6625 - accuracy: 0.5907 - val_loss: 0.5134 - val_accuracy: 0.7361\n",
            "Epoch 2/15\n",
            "585/585 [==============================] - 7s 12ms/step - loss: 0.4188 - accuracy: 0.8197 - val_loss: 0.4214 - val_accuracy: 0.8235\n",
            "Epoch 3/15\n",
            "585/585 [==============================] - 7s 12ms/step - loss: 0.2759 - accuracy: 0.9060 - val_loss: 0.3441 - val_accuracy: 0.8580\n",
            "Epoch 4/15\n",
            "585/585 [==============================] - 7s 12ms/step - loss: 0.1631 - accuracy: 0.9444 - val_loss: 0.4049 - val_accuracy: 0.8546\n",
            "Epoch 5/15\n",
            "585/585 [==============================] - 8s 13ms/step - loss: 0.1042 - accuracy: 0.9662 - val_loss: 0.4287 - val_accuracy: 0.8585\n",
            "Epoch 6/15\n",
            "585/585 [==============================] - 7s 12ms/step - loss: 0.0677 - accuracy: 0.9800 - val_loss: 0.5152 - val_accuracy: 0.8495\n",
            "Epoch 7/15\n",
            "585/585 [==============================] - 7s 12ms/step - loss: 0.0504 - accuracy: 0.9851 - val_loss: 0.5367 - val_accuracy: 0.8494\n",
            "Epoch 8/15\n",
            "585/585 [==============================] - 7s 12ms/step - loss: 0.0427 - accuracy: 0.9880 - val_loss: 0.6065 - val_accuracy: 0.8458\n",
            "Epoch 9/15\n",
            "585/585 [==============================] - 7s 12ms/step - loss: 0.0372 - accuracy: 0.9891 - val_loss: 0.5355 - val_accuracy: 0.8398\n",
            "Epoch 10/15\n",
            "585/585 [==============================] - 7s 12ms/step - loss: 0.0534 - accuracy: 0.9830 - val_loss: 0.6404 - val_accuracy: 0.8425\n",
            "Epoch 11/15\n",
            "585/585 [==============================] - 7s 13ms/step - loss: 0.0329 - accuracy: 0.9903 - val_loss: 0.7608 - val_accuracy: 0.8403\n",
            "Epoch 12/15\n",
            "585/585 [==============================] - 8s 13ms/step - loss: 0.0246 - accuracy: 0.9928 - val_loss: 0.7527 - val_accuracy: 0.8421\n",
            "Epoch 13/15\n",
            "585/585 [==============================] - 7s 12ms/step - loss: 0.0213 - accuracy: 0.9937 - val_loss: 0.8157 - val_accuracy: 0.8444\n",
            "Epoch 14/15\n",
            "585/585 [==============================] - 7s 12ms/step - loss: 0.0229 - accuracy: 0.9931 - val_loss: 0.8238 - val_accuracy: 0.8440\n",
            "Epoch 15/15\n",
            "585/585 [==============================] - 7s 12ms/step - loss: 0.0199 - accuracy: 0.9937 - val_loss: 0.8170 - val_accuracy: 0.8375\n"
          ],
          "name": "stdout"
        }
      ]
    },
    {
      "cell_type": "code",
      "metadata": {
        "colab": {
          "base_uri": "https://localhost:8080/",
          "height": 369
        },
        "id": "7rckRo_igf1o",
        "outputId": "b52d0514-a194-4e44-cea9-d5ff570e74f2"
      },
      "source": [
        "results = model.evaluate(testing_padded, y_test)\r\n",
        "print(\"test loss, test acc:\", results)\r\n",
        "\r\n",
        "predictions = model.predict(testing_padded)\r\n",
        "#print(predictions)\r\n",
        "\r\n",
        "# I don't understand why this line of code does not work\r\n",
        "print(sklearn.metrics.accuracy_score(y_test, predictions, normalize=True))"
      ],
      "execution_count": 81,
      "outputs": [
        {
          "output_type": "stream",
          "text": [
            "126/126 [==============================] - 1s 7ms/step - loss: 0.9555 - accuracy: 0.8116\n",
            "test loss, test acc: [0.9554654955863953, 0.8116498589515686]\n"
          ],
          "name": "stdout"
        },
        {
          "output_type": "error",
          "ename": "ValueError",
          "evalue": "ignored",
          "traceback": [
            "\u001b[0;31m---------------------------------------------------------------------------\u001b[0m",
            "\u001b[0;31mValueError\u001b[0m                                Traceback (most recent call last)",
            "\u001b[0;32m<ipython-input-81-a5c1267c4823>\u001b[0m in \u001b[0;36m<module>\u001b[0;34m()\u001b[0m\n\u001b[1;32m      6\u001b[0m \u001b[0;34m\u001b[0m\u001b[0m\n\u001b[1;32m      7\u001b[0m \u001b[0;31m# I don't understand why this line of code does not work\u001b[0m\u001b[0;34m\u001b[0m\u001b[0;34m\u001b[0m\u001b[0;34m\u001b[0m\u001b[0m\n\u001b[0;32m----> 8\u001b[0;31m \u001b[0mprint\u001b[0m\u001b[0;34m(\u001b[0m\u001b[0msklearn\u001b[0m\u001b[0;34m.\u001b[0m\u001b[0mmetrics\u001b[0m\u001b[0;34m.\u001b[0m\u001b[0maccuracy_score\u001b[0m\u001b[0;34m(\u001b[0m\u001b[0my_test\u001b[0m\u001b[0;34m,\u001b[0m \u001b[0mpredictions\u001b[0m\u001b[0;34m,\u001b[0m \u001b[0mnormalize\u001b[0m\u001b[0;34m=\u001b[0m\u001b[0;32mTrue\u001b[0m\u001b[0;34m)\u001b[0m\u001b[0;34m)\u001b[0m\u001b[0;34m\u001b[0m\u001b[0;34m\u001b[0m\u001b[0m\n\u001b[0m",
            "\u001b[0;32m/usr/local/lib/python3.6/dist-packages/sklearn/metrics/_classification.py\u001b[0m in \u001b[0;36maccuracy_score\u001b[0;34m(y_true, y_pred, normalize, sample_weight)\u001b[0m\n\u001b[1;32m    183\u001b[0m \u001b[0;34m\u001b[0m\u001b[0m\n\u001b[1;32m    184\u001b[0m     \u001b[0;31m# Compute accuracy for each possible representation\u001b[0m\u001b[0;34m\u001b[0m\u001b[0;34m\u001b[0m\u001b[0;34m\u001b[0m\u001b[0m\n\u001b[0;32m--> 185\u001b[0;31m     \u001b[0my_type\u001b[0m\u001b[0;34m,\u001b[0m \u001b[0my_true\u001b[0m\u001b[0;34m,\u001b[0m \u001b[0my_pred\u001b[0m \u001b[0;34m=\u001b[0m \u001b[0m_check_targets\u001b[0m\u001b[0;34m(\u001b[0m\u001b[0my_true\u001b[0m\u001b[0;34m,\u001b[0m \u001b[0my_pred\u001b[0m\u001b[0;34m)\u001b[0m\u001b[0;34m\u001b[0m\u001b[0;34m\u001b[0m\u001b[0m\n\u001b[0m\u001b[1;32m    186\u001b[0m     \u001b[0mcheck_consistent_length\u001b[0m\u001b[0;34m(\u001b[0m\u001b[0my_true\u001b[0m\u001b[0;34m,\u001b[0m \u001b[0my_pred\u001b[0m\u001b[0;34m,\u001b[0m \u001b[0msample_weight\u001b[0m\u001b[0;34m)\u001b[0m\u001b[0;34m\u001b[0m\u001b[0;34m\u001b[0m\u001b[0m\n\u001b[1;32m    187\u001b[0m     \u001b[0;32mif\u001b[0m \u001b[0my_type\u001b[0m\u001b[0;34m.\u001b[0m\u001b[0mstartswith\u001b[0m\u001b[0;34m(\u001b[0m\u001b[0;34m'multilabel'\u001b[0m\u001b[0;34m)\u001b[0m\u001b[0;34m:\u001b[0m\u001b[0;34m\u001b[0m\u001b[0;34m\u001b[0m\u001b[0m\n",
            "\u001b[0;32m/usr/local/lib/python3.6/dist-packages/sklearn/metrics/_classification.py\u001b[0m in \u001b[0;36m_check_targets\u001b[0;34m(y_true, y_pred)\u001b[0m\n\u001b[1;32m     88\u001b[0m     \u001b[0;32mif\u001b[0m \u001b[0mlen\u001b[0m\u001b[0;34m(\u001b[0m\u001b[0my_type\u001b[0m\u001b[0;34m)\u001b[0m \u001b[0;34m>\u001b[0m \u001b[0;36m1\u001b[0m\u001b[0;34m:\u001b[0m\u001b[0;34m\u001b[0m\u001b[0;34m\u001b[0m\u001b[0m\n\u001b[1;32m     89\u001b[0m         raise ValueError(\"Classification metrics can't handle a mix of {0} \"\n\u001b[0;32m---> 90\u001b[0;31m                          \"and {1} targets\".format(type_true, type_pred))\n\u001b[0m\u001b[1;32m     91\u001b[0m \u001b[0;34m\u001b[0m\u001b[0m\n\u001b[1;32m     92\u001b[0m     \u001b[0;31m# We can't have more than one value on y_type => The set is no more needed\u001b[0m\u001b[0;34m\u001b[0m\u001b[0;34m\u001b[0m\u001b[0;34m\u001b[0m\u001b[0m\n",
            "\u001b[0;31mValueError\u001b[0m: Classification metrics can't handle a mix of binary and unknown targets"
          ]
        }
      ]
    },
    {
      "cell_type": "code",
      "metadata": {
        "colab": {
          "base_uri": "https://localhost:8080/",
          "height": 541
        },
        "id": "9lVFhArmmYXo",
        "outputId": "6e651a51-814d-4859-dcc4-4f5ff6067eae"
      },
      "source": [
        "import matplotlib.pyplot as plt\r\n",
        "\r\n",
        "def plot_data(model_history, string):\r\n",
        "    plt.plot(history.history[string])\r\n",
        "    plt.plot(history.history['val_'+string])\r\n",
        "    plt.xlabel(\"Epochs\")\r\n",
        "    plt.ylabel(string)\r\n",
        "    plt.legend([string, 'val_'+string])\r\n",
        "    plt.show()\r\n",
        "  \r\n",
        "plot_data(history, \"accuracy\")\r\n",
        "plot_data(history, \"loss\")\r\n"
      ],
      "execution_count": 83,
      "outputs": [
        {
          "output_type": "display_data",
          "data": {
            "image/png": "[encoded data removed]",
            "text/plain": [
              "<Figure size 432x288 with 1 Axes>"
            ]
          },
          "metadata": {
            "tags": [],
            "needs_background": "light"
          }
        },
        {
          "output_type": "display_data",
          "data": {
            "image/png": "[encoded data removed]",
            "text/plain": [
              "<Figure size 432x288 with 1 Axes>"
            ]
          },
          "metadata": {
            "tags": [],
            "needs_background": "light"
          }
        }
      ]
    }
  ]
}