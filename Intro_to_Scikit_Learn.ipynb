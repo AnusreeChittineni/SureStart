{
  "nbformat": 4,
  "nbformat_minor": 0,
  "metadata": {
    "colab": {
      "name": "Intro_to_Scikit_Learn.ipynb",
      "provenance": [],
      "authorship_tag": "ABX9TyOVMFTaA5WE3z2qX0DAoVDt",
      "include_colab_link": true
    },
    "kernelspec": {
      "name": "python3",
      "display_name": "Python 3"
    }
  },
  "cells": [
    {
      "cell_type": "markdown",
      "metadata": {
        "id": "view-in-github",
        "colab_type": "text"
      },
      "source": [
        "<a href=\"https://colab.research.google.com/github/AnusreeChittineni/VAIL_2021/blob/main/Intro_to_Scikit_Learn.ipynb\" target=\"_parent\"><img src=\"https://colab.research.google.com/assets/colab-badge.svg\" alt=\"Open In Colab\"/></a>"
      ]
    },
    {
      "cell_type": "code",
      "metadata": {
        "colab": {
          "base_uri": "https://localhost:8080/",
          "height": 35
        },
        "id": "bC_hV49ablGf",
        "outputId": "dbc9d916-aec1-4007-df7e-20a08256b29a"
      },
      "source": [
        "from sklearn.datasets import load_iris\r\n",
        "from sklearn import tree\r\n",
        "\r\n",
        "# Load in our dataset\r\n",
        "iris_data = load_iris()\r\n",
        "\r\n",
        "# Initialize our decision tree object\r\n",
        "classification_tree = tree.DecisionTreeClassifier()\r\n",
        "\r\n",
        "# Train our decision tree (tree induction + pruning)\r\n",
        "classification_tree = classification_tree.fit(iris_data.data, iris_data.target)\r\n",
        "\r\n",
        "import graphviz \r\n",
        "dot_data = tree.export_graphviz(classification_tree, out_file=None, \r\n",
        "                     feature_names= iris_data.feature_names,  \r\n",
        "                     class_names=iris_data.target_names,  \r\n",
        "                     filled=True, rounded=True,  \r\n",
        "                     special_characters=True)  \r\n",
        "graph = graphviz.Source(dot_data)  \r\n",
        "graph.render(\"iris\") "
      ],
      "execution_count": 6,
      "outputs": [
        {
          "output_type": "execute_result",
          "data": {
            "application/vnd.google.colaboratory.intrinsic+json": {
              "type": "string"
            },
            "text/plain": [
              "'iris.pdf'"
            ]
          },
          "metadata": {
            "tags": []
          },
          "execution_count": 6
        }
      ]
    }
  ]
}